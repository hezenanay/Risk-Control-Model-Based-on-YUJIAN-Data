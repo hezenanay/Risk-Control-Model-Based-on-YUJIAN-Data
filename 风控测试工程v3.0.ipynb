{
 "cells": [
  {
   "cell_type": "code",
   "execution_count": 1,
   "metadata": {},
   "outputs": [],
   "source": [
    "import pandas as pd\n",
    "import numpy as np"
   ]
  },
  {
   "cell_type": "code",
   "execution_count": 2,
   "metadata": {},
   "outputs": [],
   "source": [
    "path=open(\"E:\\工作资料\\风控\\测试工程\\data.csv\")\n",
    "df=pd.read_csv(path)"
   ]
  },
  {
   "cell_type": "code",
   "execution_count": 3,
   "metadata": {},
   "outputs": [
    {
     "data": {
      "text/html": [
       "<div>\n",
       "<style scoped>\n",
       "    .dataframe tbody tr th:only-of-type {\n",
       "        vertical-align: middle;\n",
       "    }\n",
       "\n",
       "    .dataframe tbody tr th {\n",
       "        vertical-align: top;\n",
       "    }\n",
       "\n",
       "    .dataframe thead th {\n",
       "        text-align: right;\n",
       "    }\n",
       "</style>\n",
       "<table border=\"1\" class=\"dataframe\">\n",
       "  <thead>\n",
       "    <tr style=\"text-align: right;\">\n",
       "      <th></th>\n",
       "      <th>is_positive</th>\n",
       "      <th>gender</th>\n",
       "      <th>age</th>\n",
       "      <th>is_id_mob_pro_same</th>\n",
       "      <th>is_id_mob_city_same</th>\n",
       "      <th>phone_operator</th>\n",
       "      <th>is_same_mobile_num</th>\n",
       "      <th>is_same_recv_acct_no</th>\n",
       "      <th>is_same_loan_bank_name</th>\n",
       "      <th>is_same_loan_bank_province</th>\n",
       "      <th>...</th>\n",
       "      <th>sum_loan_con_amt_6</th>\n",
       "      <th>sum_issue_amt_3</th>\n",
       "      <th>sum_issue_amt_6</th>\n",
       "      <th>max_loan_con_amt</th>\n",
       "      <th>min_loan_con_amt</th>\n",
       "      <th>max_loan_con_amt_3</th>\n",
       "      <th>max_issue_amt_3</th>\n",
       "      <th>max_loan_con_amt_6</th>\n",
       "      <th>max_issue_amt_6</th>\n",
       "      <th>recent_apply_days</th>\n",
       "    </tr>\n",
       "  </thead>\n",
       "  <tbody>\n",
       "    <tr>\n",
       "      <th>0</th>\n",
       "      <td>1</td>\n",
       "      <td>1</td>\n",
       "      <td>25</td>\n",
       "      <td>1.0</td>\n",
       "      <td>0.0</td>\n",
       "      <td>mobile</td>\n",
       "      <td>1</td>\n",
       "      <td>1</td>\n",
       "      <td>1</td>\n",
       "      <td>1</td>\n",
       "      <td>...</td>\n",
       "      <td>2300.0</td>\n",
       "      <td>2300</td>\n",
       "      <td>2300</td>\n",
       "      <td>2300.0</td>\n",
       "      <td>2300.00</td>\n",
       "      <td>2300</td>\n",
       "      <td>2300</td>\n",
       "      <td>2300.0</td>\n",
       "      <td>2300</td>\n",
       "      <td>34</td>\n",
       "    </tr>\n",
       "    <tr>\n",
       "      <th>1</th>\n",
       "      <td>1</td>\n",
       "      <td>1</td>\n",
       "      <td>27</td>\n",
       "      <td>1.0</td>\n",
       "      <td>0.0</td>\n",
       "      <td>unicom</td>\n",
       "      <td>1</td>\n",
       "      <td>0</td>\n",
       "      <td>0</td>\n",
       "      <td>1</td>\n",
       "      <td>...</td>\n",
       "      <td>11000.0</td>\n",
       "      <td>11000</td>\n",
       "      <td>11000</td>\n",
       "      <td>9500.0</td>\n",
       "      <td>1146.99</td>\n",
       "      <td>9500</td>\n",
       "      <td>9500</td>\n",
       "      <td>9500.0</td>\n",
       "      <td>9500</td>\n",
       "      <td>15</td>\n",
       "    </tr>\n",
       "    <tr>\n",
       "      <th>2</th>\n",
       "      <td>1</td>\n",
       "      <td>1</td>\n",
       "      <td>31</td>\n",
       "      <td>1.0</td>\n",
       "      <td>1.0</td>\n",
       "      <td>mobile</td>\n",
       "      <td>1</td>\n",
       "      <td>1</td>\n",
       "      <td>1</td>\n",
       "      <td>1</td>\n",
       "      <td>...</td>\n",
       "      <td>10640.0</td>\n",
       "      <td>7900</td>\n",
       "      <td>10640</td>\n",
       "      <td>1700.0</td>\n",
       "      <td>500.00</td>\n",
       "      <td>1700</td>\n",
       "      <td>1700</td>\n",
       "      <td>1700.0</td>\n",
       "      <td>1700</td>\n",
       "      <td>2</td>\n",
       "    </tr>\n",
       "    <tr>\n",
       "      <th>3</th>\n",
       "      <td>1</td>\n",
       "      <td>1</td>\n",
       "      <td>25</td>\n",
       "      <td>1.0</td>\n",
       "      <td>1.0</td>\n",
       "      <td>mobile</td>\n",
       "      <td>1</td>\n",
       "      <td>1</td>\n",
       "      <td>1</td>\n",
       "      <td>1</td>\n",
       "      <td>...</td>\n",
       "      <td>4200.0</td>\n",
       "      <td>4200</td>\n",
       "      <td>4200</td>\n",
       "      <td>4997.9</td>\n",
       "      <td>1200.00</td>\n",
       "      <td>3000</td>\n",
       "      <td>3000</td>\n",
       "      <td>3000.0</td>\n",
       "      <td>3000</td>\n",
       "      <td>25</td>\n",
       "    </tr>\n",
       "    <tr>\n",
       "      <th>4</th>\n",
       "      <td>1</td>\n",
       "      <td>1</td>\n",
       "      <td>25</td>\n",
       "      <td>1.0</td>\n",
       "      <td>0.0</td>\n",
       "      <td>mobile</td>\n",
       "      <td>1</td>\n",
       "      <td>1</td>\n",
       "      <td>1</td>\n",
       "      <td>1</td>\n",
       "      <td>...</td>\n",
       "      <td>4500.0</td>\n",
       "      <td>4500</td>\n",
       "      <td>4500</td>\n",
       "      <td>4500.0</td>\n",
       "      <td>2142.40</td>\n",
       "      <td>4500</td>\n",
       "      <td>4500</td>\n",
       "      <td>4500.0</td>\n",
       "      <td>4500</td>\n",
       "      <td>61</td>\n",
       "    </tr>\n",
       "  </tbody>\n",
       "</table>\n",
       "<p>5 rows × 32 columns</p>\n",
       "</div>"
      ],
      "text/plain": [
       "   is_positive  gender  age  is_id_mob_pro_same  is_id_mob_city_same  \\\n",
       "0            1       1   25                 1.0                  0.0   \n",
       "1            1       1   27                 1.0                  0.0   \n",
       "2            1       1   31                 1.0                  1.0   \n",
       "3            1       1   25                 1.0                  1.0   \n",
       "4            1       1   25                 1.0                  0.0   \n",
       "\n",
       "  phone_operator  is_same_mobile_num  is_same_recv_acct_no  \\\n",
       "0         mobile                   1                     1   \n",
       "1         unicom                   1                     0   \n",
       "2         mobile                   1                     1   \n",
       "3         mobile                   1                     1   \n",
       "4         mobile                   1                     1   \n",
       "\n",
       "   is_same_loan_bank_name  is_same_loan_bank_province        ...          \\\n",
       "0                       1                           1        ...           \n",
       "1                       0                           1        ...           \n",
       "2                       1                           1        ...           \n",
       "3                       1                           1        ...           \n",
       "4                       1                           1        ...           \n",
       "\n",
       "   sum_loan_con_amt_6  sum_issue_amt_3  sum_issue_amt_6  max_loan_con_amt  \\\n",
       "0              2300.0             2300             2300            2300.0   \n",
       "1             11000.0            11000            11000            9500.0   \n",
       "2             10640.0             7900            10640            1700.0   \n",
       "3              4200.0             4200             4200            4997.9   \n",
       "4              4500.0             4500             4500            4500.0   \n",
       "\n",
       "   min_loan_con_amt  max_loan_con_amt_3  max_issue_amt_3  max_loan_con_amt_6  \\\n",
       "0           2300.00                2300             2300              2300.0   \n",
       "1           1146.99                9500             9500              9500.0   \n",
       "2            500.00                1700             1700              1700.0   \n",
       "3           1200.00                3000             3000              3000.0   \n",
       "4           2142.40                4500             4500              4500.0   \n",
       "\n",
       "   max_issue_amt_6  recent_apply_days  \n",
       "0             2300                 34  \n",
       "1             9500                 15  \n",
       "2             1700                  2  \n",
       "3             3000                 25  \n",
       "4             4500                 61  \n",
       "\n",
       "[5 rows x 32 columns]"
      ]
     },
     "execution_count": 3,
     "metadata": {},
     "output_type": "execute_result"
    }
   ],
   "source": [
    "df.head()"
   ]
  },
  {
   "cell_type": "code",
   "execution_count": 4,
   "metadata": {},
   "outputs": [
    {
     "name": "stdout",
     "output_type": "stream",
     "text": [
      "<class 'pandas.core.frame.DataFrame'>\n",
      "RangeIndex: 46330 entries, 0 to 46329\n",
      "Data columns (total 32 columns):\n",
      "is_positive                   46330 non-null int64\n",
      "gender                        46330 non-null int64\n",
      "age                           46330 non-null int64\n",
      "is_id_mob_pro_same            45456 non-null float64\n",
      "is_id_mob_city_same           45425 non-null float64\n",
      "phone_operator                46330 non-null object\n",
      "is_same_mobile_num            46330 non-null int64\n",
      "is_same_recv_acct_no          46330 non-null int64\n",
      "is_same_loan_bank_name        46330 non-null int64\n",
      "is_same_loan_bank_province    46330 non-null int64\n",
      "is_same_loan_bank_city        46330 non-null int64\n",
      "diff_mobile_num               46330 non-null int64\n",
      "diff_bank_account_num         46330 non-null int64\n",
      "diff_bank_id_num              46330 non-null int64\n",
      "diff_bank_province_num        46330 non-null int64\n",
      "diff_bank_city_num            46330 non-null int64\n",
      "sum_loan_con_num              46330 non-null int64\n",
      "sum_loan_con_num_3            46330 non-null int64\n",
      "sum_loan_con_num_6            46330 non-null int64\n",
      "sum_loan_con_amt              46330 non-null float64\n",
      "sum_issue_amt                 46330 non-null int64\n",
      "sum_loan_con_amt_3            46330 non-null int64\n",
      "sum_loan_con_amt_6            46330 non-null float64\n",
      "sum_issue_amt_3               46330 non-null int64\n",
      "sum_issue_amt_6               46330 non-null int64\n",
      "max_loan_con_amt              46330 non-null float64\n",
      "min_loan_con_amt              46330 non-null float64\n",
      "max_loan_con_amt_3            46330 non-null int64\n",
      "max_issue_amt_3               46330 non-null int64\n",
      "max_loan_con_amt_6            46330 non-null float64\n",
      "max_issue_amt_6               46330 non-null int64\n",
      "recent_apply_days             46330 non-null int64\n",
      "dtypes: float64(7), int64(24), object(1)\n",
      "memory usage: 11.3+ MB\n"
     ]
    }
   ],
   "source": [
    "df.info()"
   ]
  },
  {
   "cell_type": "code",
   "execution_count": 5,
   "metadata": {},
   "outputs": [
    {
     "data": {
      "text/html": [
       "<div>\n",
       "<style scoped>\n",
       "    .dataframe tbody tr th:only-of-type {\n",
       "        vertical-align: middle;\n",
       "    }\n",
       "\n",
       "    .dataframe tbody tr th {\n",
       "        vertical-align: top;\n",
       "    }\n",
       "\n",
       "    .dataframe thead th {\n",
       "        text-align: right;\n",
       "    }\n",
       "</style>\n",
       "<table border=\"1\" class=\"dataframe\">\n",
       "  <thead>\n",
       "    <tr style=\"text-align: right;\">\n",
       "      <th></th>\n",
       "      <th>is_positive</th>\n",
       "      <th>gender</th>\n",
       "      <th>age</th>\n",
       "      <th>is_id_mob_pro_same</th>\n",
       "      <th>is_id_mob_city_same</th>\n",
       "      <th>is_same_mobile_num</th>\n",
       "      <th>is_same_recv_acct_no</th>\n",
       "      <th>is_same_loan_bank_name</th>\n",
       "      <th>is_same_loan_bank_province</th>\n",
       "      <th>is_same_loan_bank_city</th>\n",
       "      <th>...</th>\n",
       "      <th>sum_loan_con_amt_6</th>\n",
       "      <th>sum_issue_amt_3</th>\n",
       "      <th>sum_issue_amt_6</th>\n",
       "      <th>max_loan_con_amt</th>\n",
       "      <th>min_loan_con_amt</th>\n",
       "      <th>max_loan_con_amt_3</th>\n",
       "      <th>max_issue_amt_3</th>\n",
       "      <th>max_loan_con_amt_6</th>\n",
       "      <th>max_issue_amt_6</th>\n",
       "      <th>recent_apply_days</th>\n",
       "    </tr>\n",
       "  </thead>\n",
       "  <tbody>\n",
       "    <tr>\n",
       "      <th>count</th>\n",
       "      <td>46330.000000</td>\n",
       "      <td>46330.000000</td>\n",
       "      <td>46330.000000</td>\n",
       "      <td>45456.000000</td>\n",
       "      <td>45425.000000</td>\n",
       "      <td>46330.000000</td>\n",
       "      <td>46330.000000</td>\n",
       "      <td>46330.000000</td>\n",
       "      <td>46330.000000</td>\n",
       "      <td>46330.000000</td>\n",
       "      <td>...</td>\n",
       "      <td>46330.000000</td>\n",
       "      <td>46330.000000</td>\n",
       "      <td>46330.000000</td>\n",
       "      <td>46330.000000</td>\n",
       "      <td>46330.000000</td>\n",
       "      <td>46330.000000</td>\n",
       "      <td>46330.000000</td>\n",
       "      <td>46330.000000</td>\n",
       "      <td>46330.000000</td>\n",
       "      <td>46330.000000</td>\n",
       "    </tr>\n",
       "    <tr>\n",
       "      <th>mean</th>\n",
       "      <td>0.700000</td>\n",
       "      <td>0.674142</td>\n",
       "      <td>28.219447</td>\n",
       "      <td>0.795209</td>\n",
       "      <td>0.499505</td>\n",
       "      <td>0.981891</td>\n",
       "      <td>0.934384</td>\n",
       "      <td>0.762853</td>\n",
       "      <td>0.991647</td>\n",
       "      <td>0.981135</td>\n",
       "      <td>...</td>\n",
       "      <td>3824.945679</td>\n",
       "      <td>2302.510641</td>\n",
       "      <td>3817.601338</td>\n",
       "      <td>2607.223849</td>\n",
       "      <td>1215.918677</td>\n",
       "      <td>1389.830153</td>\n",
       "      <td>1389.830153</td>\n",
       "      <td>1928.530329</td>\n",
       "      <td>1922.488884</td>\n",
       "      <td>66.424088</td>\n",
       "    </tr>\n",
       "    <tr>\n",
       "      <th>std</th>\n",
       "      <td>0.458263</td>\n",
       "      <td>0.468700</td>\n",
       "      <td>5.304308</td>\n",
       "      <td>0.403554</td>\n",
       "      <td>0.500005</td>\n",
       "      <td>0.133348</td>\n",
       "      <td>0.247613</td>\n",
       "      <td>0.425337</td>\n",
       "      <td>0.091014</td>\n",
       "      <td>0.136048</td>\n",
       "      <td>...</td>\n",
       "      <td>3380.384998</td>\n",
       "      <td>2370.262102</td>\n",
       "      <td>3376.847396</td>\n",
       "      <td>1711.813061</td>\n",
       "      <td>1125.075566</td>\n",
       "      <td>1375.599225</td>\n",
       "      <td>1375.599225</td>\n",
       "      <td>1488.779256</td>\n",
       "      <td>1483.918014</td>\n",
       "      <td>78.821720</td>\n",
       "    </tr>\n",
       "    <tr>\n",
       "      <th>min</th>\n",
       "      <td>0.000000</td>\n",
       "      <td>0.000000</td>\n",
       "      <td>19.000000</td>\n",
       "      <td>0.000000</td>\n",
       "      <td>0.000000</td>\n",
       "      <td>0.000000</td>\n",
       "      <td>0.000000</td>\n",
       "      <td>0.000000</td>\n",
       "      <td>0.000000</td>\n",
       "      <td>0.000000</td>\n",
       "      <td>...</td>\n",
       "      <td>0.000000</td>\n",
       "      <td>0.000000</td>\n",
       "      <td>0.000000</td>\n",
       "      <td>500.000000</td>\n",
       "      <td>500.000000</td>\n",
       "      <td>0.000000</td>\n",
       "      <td>0.000000</td>\n",
       "      <td>0.000000</td>\n",
       "      <td>0.000000</td>\n",
       "      <td>0.000000</td>\n",
       "    </tr>\n",
       "    <tr>\n",
       "      <th>25%</th>\n",
       "      <td>0.000000</td>\n",
       "      <td>0.000000</td>\n",
       "      <td>24.000000</td>\n",
       "      <td>1.000000</td>\n",
       "      <td>0.000000</td>\n",
       "      <td>1.000000</td>\n",
       "      <td>1.000000</td>\n",
       "      <td>1.000000</td>\n",
       "      <td>1.000000</td>\n",
       "      <td>1.000000</td>\n",
       "      <td>...</td>\n",
       "      <td>1500.000000</td>\n",
       "      <td>500.000000</td>\n",
       "      <td>1500.000000</td>\n",
       "      <td>1400.000000</td>\n",
       "      <td>500.000000</td>\n",
       "      <td>500.000000</td>\n",
       "      <td>500.000000</td>\n",
       "      <td>1000.000000</td>\n",
       "      <td>1000.000000</td>\n",
       "      <td>17.000000</td>\n",
       "    </tr>\n",
       "    <tr>\n",
       "      <th>50%</th>\n",
       "      <td>1.000000</td>\n",
       "      <td>1.000000</td>\n",
       "      <td>27.000000</td>\n",
       "      <td>1.000000</td>\n",
       "      <td>0.000000</td>\n",
       "      <td>1.000000</td>\n",
       "      <td>1.000000</td>\n",
       "      <td>1.000000</td>\n",
       "      <td>1.000000</td>\n",
       "      <td>1.000000</td>\n",
       "      <td>...</td>\n",
       "      <td>3076.500000</td>\n",
       "      <td>1800.000000</td>\n",
       "      <td>3050.000000</td>\n",
       "      <td>2100.000000</td>\n",
       "      <td>800.000000</td>\n",
       "      <td>1100.000000</td>\n",
       "      <td>1100.000000</td>\n",
       "      <td>1610.505000</td>\n",
       "      <td>1600.000000</td>\n",
       "      <td>34.000000</td>\n",
       "    </tr>\n",
       "    <tr>\n",
       "      <th>75%</th>\n",
       "      <td>1.000000</td>\n",
       "      <td>1.000000</td>\n",
       "      <td>31.000000</td>\n",
       "      <td>1.000000</td>\n",
       "      <td>1.000000</td>\n",
       "      <td>1.000000</td>\n",
       "      <td>1.000000</td>\n",
       "      <td>1.000000</td>\n",
       "      <td>1.000000</td>\n",
       "      <td>1.000000</td>\n",
       "      <td>...</td>\n",
       "      <td>5273.750000</td>\n",
       "      <td>3400.000000</td>\n",
       "      <td>5200.000000</td>\n",
       "      <td>3400.000000</td>\n",
       "      <td>1430.210000</td>\n",
       "      <td>2000.000000</td>\n",
       "      <td>2000.000000</td>\n",
       "      <td>2500.000000</td>\n",
       "      <td>2500.000000</td>\n",
       "      <td>85.000000</td>\n",
       "    </tr>\n",
       "    <tr>\n",
       "      <th>max</th>\n",
       "      <td>1.000000</td>\n",
       "      <td>1.000000</td>\n",
       "      <td>56.000000</td>\n",
       "      <td>1.000000</td>\n",
       "      <td>1.000000</td>\n",
       "      <td>1.000000</td>\n",
       "      <td>1.000000</td>\n",
       "      <td>1.000000</td>\n",
       "      <td>1.000000</td>\n",
       "      <td>1.000000</td>\n",
       "      <td>...</td>\n",
       "      <td>46700.000000</td>\n",
       "      <td>33200.000000</td>\n",
       "      <td>46700.000000</td>\n",
       "      <td>11658.100000</td>\n",
       "      <td>11658.100000</td>\n",
       "      <td>10000.000000</td>\n",
       "      <td>10000.000000</td>\n",
       "      <td>10000.000000</td>\n",
       "      <td>10000.000000</td>\n",
       "      <td>545.000000</td>\n",
       "    </tr>\n",
       "  </tbody>\n",
       "</table>\n",
       "<p>8 rows × 31 columns</p>\n",
       "</div>"
      ],
      "text/plain": [
       "        is_positive        gender           age  is_id_mob_pro_same  \\\n",
       "count  46330.000000  46330.000000  46330.000000        45456.000000   \n",
       "mean       0.700000      0.674142     28.219447            0.795209   \n",
       "std        0.458263      0.468700      5.304308            0.403554   \n",
       "min        0.000000      0.000000     19.000000            0.000000   \n",
       "25%        0.000000      0.000000     24.000000            1.000000   \n",
       "50%        1.000000      1.000000     27.000000            1.000000   \n",
       "75%        1.000000      1.000000     31.000000            1.000000   \n",
       "max        1.000000      1.000000     56.000000            1.000000   \n",
       "\n",
       "       is_id_mob_city_same  is_same_mobile_num  is_same_recv_acct_no  \\\n",
       "count         45425.000000        46330.000000          46330.000000   \n",
       "mean              0.499505            0.981891              0.934384   \n",
       "std               0.500005            0.133348              0.247613   \n",
       "min               0.000000            0.000000              0.000000   \n",
       "25%               0.000000            1.000000              1.000000   \n",
       "50%               0.000000            1.000000              1.000000   \n",
       "75%               1.000000            1.000000              1.000000   \n",
       "max               1.000000            1.000000              1.000000   \n",
       "\n",
       "       is_same_loan_bank_name  is_same_loan_bank_province  \\\n",
       "count            46330.000000                46330.000000   \n",
       "mean                 0.762853                    0.991647   \n",
       "std                  0.425337                    0.091014   \n",
       "min                  0.000000                    0.000000   \n",
       "25%                  1.000000                    1.000000   \n",
       "50%                  1.000000                    1.000000   \n",
       "75%                  1.000000                    1.000000   \n",
       "max                  1.000000                    1.000000   \n",
       "\n",
       "       is_same_loan_bank_city        ...          sum_loan_con_amt_6  \\\n",
       "count            46330.000000        ...                46330.000000   \n",
       "mean                 0.981135        ...                 3824.945679   \n",
       "std                  0.136048        ...                 3380.384998   \n",
       "min                  0.000000        ...                    0.000000   \n",
       "25%                  1.000000        ...                 1500.000000   \n",
       "50%                  1.000000        ...                 3076.500000   \n",
       "75%                  1.000000        ...                 5273.750000   \n",
       "max                  1.000000        ...                46700.000000   \n",
       "\n",
       "       sum_issue_amt_3  sum_issue_amt_6  max_loan_con_amt  min_loan_con_amt  \\\n",
       "count     46330.000000     46330.000000      46330.000000      46330.000000   \n",
       "mean       2302.510641      3817.601338       2607.223849       1215.918677   \n",
       "std        2370.262102      3376.847396       1711.813061       1125.075566   \n",
       "min           0.000000         0.000000        500.000000        500.000000   \n",
       "25%         500.000000      1500.000000       1400.000000        500.000000   \n",
       "50%        1800.000000      3050.000000       2100.000000        800.000000   \n",
       "75%        3400.000000      5200.000000       3400.000000       1430.210000   \n",
       "max       33200.000000     46700.000000      11658.100000      11658.100000   \n",
       "\n",
       "       max_loan_con_amt_3  max_issue_amt_3  max_loan_con_amt_6  \\\n",
       "count        46330.000000     46330.000000        46330.000000   \n",
       "mean          1389.830153      1389.830153         1928.530329   \n",
       "std           1375.599225      1375.599225         1488.779256   \n",
       "min              0.000000         0.000000            0.000000   \n",
       "25%            500.000000       500.000000         1000.000000   \n",
       "50%           1100.000000      1100.000000         1610.505000   \n",
       "75%           2000.000000      2000.000000         2500.000000   \n",
       "max          10000.000000     10000.000000        10000.000000   \n",
       "\n",
       "       max_issue_amt_6  recent_apply_days  \n",
       "count     46330.000000       46330.000000  \n",
       "mean       1922.488884          66.424088  \n",
       "std        1483.918014          78.821720  \n",
       "min           0.000000           0.000000  \n",
       "25%        1000.000000          17.000000  \n",
       "50%        1600.000000          34.000000  \n",
       "75%        2500.000000          85.000000  \n",
       "max       10000.000000         545.000000  \n",
       "\n",
       "[8 rows x 31 columns]"
      ]
     },
     "execution_count": 5,
     "metadata": {},
     "output_type": "execute_result"
    }
   ],
   "source": [
    "df.describe()"
   ]
  },
  {
   "cell_type": "code",
   "execution_count": 6,
   "metadata": {},
   "outputs": [
    {
     "name": "stdout",
     "output_type": "stream",
     "text": [
      "手机号城市缺失比:1.95%\n"
     ]
    }
   ],
   "source": [
    "#手机号存在缺失（也可能因为匹配不到字典），归属城市缺失数量多于归属省份\n",
    "print(\"手机号城市缺失比:{:.2%}\".format(df['is_id_mob_city_same'].isnull().sum()/df.shape[0]))"
   ]
  },
  {
   "cell_type": "code",
   "execution_count": 7,
   "metadata": {},
   "outputs": [
    {
     "name": "stdout",
     "output_type": "stream",
     "text": [
      "<class 'pandas.core.frame.DataFrame'>\n",
      "Int64Index: 45425 entries, 0 to 46329\n",
      "Data columns (total 32 columns):\n",
      "is_positive                   45425 non-null int64\n",
      "gender                        45425 non-null int64\n",
      "age                           45425 non-null int64\n",
      "is_id_mob_pro_same            45425 non-null float64\n",
      "is_id_mob_city_same           45425 non-null float64\n",
      "phone_operator                45425 non-null object\n",
      "is_same_mobile_num            45425 non-null int64\n",
      "is_same_recv_acct_no          45425 non-null int64\n",
      "is_same_loan_bank_name        45425 non-null int64\n",
      "is_same_loan_bank_province    45425 non-null int64\n",
      "is_same_loan_bank_city        45425 non-null int64\n",
      "diff_mobile_num               45425 non-null int64\n",
      "diff_bank_account_num         45425 non-null int64\n",
      "diff_bank_id_num              45425 non-null int64\n",
      "diff_bank_province_num        45425 non-null int64\n",
      "diff_bank_city_num            45425 non-null int64\n",
      "sum_loan_con_num              45425 non-null int64\n",
      "sum_loan_con_num_3            45425 non-null int64\n",
      "sum_loan_con_num_6            45425 non-null int64\n",
      "sum_loan_con_amt              45425 non-null float64\n",
      "sum_issue_amt                 45425 non-null int64\n",
      "sum_loan_con_amt_3            45425 non-null int64\n",
      "sum_loan_con_amt_6            45425 non-null float64\n",
      "sum_issue_amt_3               45425 non-null int64\n",
      "sum_issue_amt_6               45425 non-null int64\n",
      "max_loan_con_amt              45425 non-null float64\n",
      "min_loan_con_amt              45425 non-null float64\n",
      "max_loan_con_amt_3            45425 non-null int64\n",
      "max_issue_amt_3               45425 non-null int64\n",
      "max_loan_con_amt_6            45425 non-null float64\n",
      "max_issue_amt_6               45425 non-null int64\n",
      "recent_apply_days             45425 non-null int64\n",
      "dtypes: float64(7), int64(24), object(1)\n",
      "memory usage: 11.4+ MB\n"
     ]
    },
    {
     "name": "stderr",
     "output_type": "stream",
     "text": [
      "D:\\Anaconda\\lib\\site-packages\\ipykernel_launcher.py:3: SettingWithCopyWarning: \n",
      "A value is trying to be set on a copy of a slice from a DataFrame.\n",
      "Try using .loc[row_indexer,col_indexer] = value instead\n",
      "\n",
      "See the caveats in the documentation: http://pandas.pydata.org/pandas-docs/stable/indexing.html#indexing-view-versus-copy\n",
      "  This is separate from the ipykernel package so we can avoid doing imports until\n"
     ]
    }
   ],
   "source": [
    "#缺失数量不大，但很难补充，这里我们删掉这些数据\n",
    "df1=df.dropna()\n",
    "df1['phone_operator']=df1['phone_operator'].replace(['unicom','mobile','telecom','virtual'],['0','1','2','3'])\n",
    "df1.info()"
   ]
  },
  {
   "cell_type": "code",
   "execution_count": 8,
   "metadata": {},
   "outputs": [
    {
     "name": "stdout",
     "output_type": "stream",
     "text": [
      "<class 'pandas.core.frame.DataFrame'>\n",
      "Int64Index: 45418 entries, 0 to 46329\n",
      "Data columns (total 32 columns):\n",
      "is_positive                   45418 non-null int64\n",
      "gender                        45418 non-null int64\n",
      "age                           45418 non-null int64\n",
      "is_id_mob_pro_same            45418 non-null float64\n",
      "is_id_mob_city_same           45418 non-null float64\n",
      "phone_operator                45418 non-null object\n",
      "is_same_mobile_num            45418 non-null int64\n",
      "is_same_recv_acct_no          45418 non-null int64\n",
      "is_same_loan_bank_name        45418 non-null int64\n",
      "is_same_loan_bank_province    45418 non-null int64\n",
      "is_same_loan_bank_city        45418 non-null int64\n",
      "diff_mobile_num               45418 non-null int64\n",
      "diff_bank_account_num         45418 non-null int64\n",
      "diff_bank_id_num              45418 non-null int64\n",
      "diff_bank_province_num        45418 non-null int64\n",
      "diff_bank_city_num            45418 non-null int64\n",
      "sum_loan_con_num              45418 non-null int64\n",
      "sum_loan_con_num_3            45418 non-null int64\n",
      "sum_loan_con_num_6            45418 non-null int64\n",
      "sum_loan_con_amt              45418 non-null float64\n",
      "sum_issue_amt                 45418 non-null int64\n",
      "sum_loan_con_amt_3            45418 non-null int64\n",
      "sum_loan_con_amt_6            45418 non-null float64\n",
      "sum_issue_amt_3               45418 non-null int64\n",
      "sum_issue_amt_6               45418 non-null int64\n",
      "max_loan_con_amt              45418 non-null float64\n",
      "min_loan_con_amt              45418 non-null float64\n",
      "max_loan_con_amt_3            45418 non-null int64\n",
      "max_issue_amt_3               45418 non-null int64\n",
      "max_loan_con_amt_6            45418 non-null float64\n",
      "max_issue_amt_6               45418 non-null int64\n",
      "recent_apply_days             45418 non-null int64\n",
      "dtypes: float64(7), int64(24), object(1)\n",
      "memory usage: 11.4+ MB\n"
     ]
    }
   ],
   "source": [
    "#由于虚拟运营商（3）会影响之后的分箱，所以这里需要把虚拟运营商的几条去掉\n",
    "df1=df1[df1['phone_operator'].isin(['0','1','2'])]\n",
    "df1.info()"
   ]
  },
  {
   "cell_type": "code",
   "execution_count": 9,
   "metadata": {},
   "outputs": [],
   "source": [
    "import matplotlib.pyplot as plt #导入图像库\n",
    "from pylab import mpl\n",
    "%matplotlib inline"
   ]
  },
  {
   "cell_type": "code",
   "execution_count": 10,
   "metadata": {
    "scrolled": true
   },
   "outputs": [
    {
     "data": {
      "text/html": [
       "<div>\n",
       "<style scoped>\n",
       "    .dataframe tbody tr th:only-of-type {\n",
       "        vertical-align: middle;\n",
       "    }\n",
       "\n",
       "    .dataframe tbody tr th {\n",
       "        vertical-align: top;\n",
       "    }\n",
       "\n",
       "    .dataframe thead th {\n",
       "        text-align: right;\n",
       "    }\n",
       "</style>\n",
       "<table border=\"1\" class=\"dataframe\">\n",
       "  <thead>\n",
       "    <tr style=\"text-align: right;\">\n",
       "      <th></th>\n",
       "      <th>is_positive</th>\n",
       "      <th>gender</th>\n",
       "      <th>age</th>\n",
       "      <th>is_id_mob_pro_same</th>\n",
       "      <th>is_id_mob_city_same</th>\n",
       "      <th>phone_operator</th>\n",
       "      <th>is_same_mobile_num</th>\n",
       "      <th>is_same_recv_acct_no</th>\n",
       "      <th>is_same_loan_bank_name</th>\n",
       "      <th>is_same_loan_bank_province</th>\n",
       "      <th>...</th>\n",
       "      <th>sum_loan_con_amt_6</th>\n",
       "      <th>sum_issue_amt_3</th>\n",
       "      <th>sum_issue_amt_6</th>\n",
       "      <th>max_loan_con_amt</th>\n",
       "      <th>min_loan_con_amt</th>\n",
       "      <th>max_loan_con_amt_3</th>\n",
       "      <th>max_issue_amt_3</th>\n",
       "      <th>max_loan_con_amt_6</th>\n",
       "      <th>max_issue_amt_6</th>\n",
       "      <th>recent_apply_days</th>\n",
       "    </tr>\n",
       "  </thead>\n",
       "  <tbody>\n",
       "    <tr>\n",
       "      <th>0</th>\n",
       "      <td>1</td>\n",
       "      <td>1</td>\n",
       "      <td>25</td>\n",
       "      <td>1.0</td>\n",
       "      <td>0.0</td>\n",
       "      <td>1</td>\n",
       "      <td>1</td>\n",
       "      <td>1</td>\n",
       "      <td>1</td>\n",
       "      <td>1</td>\n",
       "      <td>...</td>\n",
       "      <td>2300.0</td>\n",
       "      <td>2300</td>\n",
       "      <td>2300</td>\n",
       "      <td>2300.0</td>\n",
       "      <td>2300.00</td>\n",
       "      <td>2300</td>\n",
       "      <td>2300</td>\n",
       "      <td>2300.0</td>\n",
       "      <td>2300</td>\n",
       "      <td>34</td>\n",
       "    </tr>\n",
       "    <tr>\n",
       "      <th>1</th>\n",
       "      <td>1</td>\n",
       "      <td>1</td>\n",
       "      <td>27</td>\n",
       "      <td>1.0</td>\n",
       "      <td>0.0</td>\n",
       "      <td>0</td>\n",
       "      <td>1</td>\n",
       "      <td>0</td>\n",
       "      <td>0</td>\n",
       "      <td>1</td>\n",
       "      <td>...</td>\n",
       "      <td>11000.0</td>\n",
       "      <td>11000</td>\n",
       "      <td>11000</td>\n",
       "      <td>9500.0</td>\n",
       "      <td>1146.99</td>\n",
       "      <td>9500</td>\n",
       "      <td>9500</td>\n",
       "      <td>9500.0</td>\n",
       "      <td>9500</td>\n",
       "      <td>15</td>\n",
       "    </tr>\n",
       "    <tr>\n",
       "      <th>2</th>\n",
       "      <td>1</td>\n",
       "      <td>1</td>\n",
       "      <td>31</td>\n",
       "      <td>1.0</td>\n",
       "      <td>1.0</td>\n",
       "      <td>1</td>\n",
       "      <td>1</td>\n",
       "      <td>1</td>\n",
       "      <td>1</td>\n",
       "      <td>1</td>\n",
       "      <td>...</td>\n",
       "      <td>10640.0</td>\n",
       "      <td>7900</td>\n",
       "      <td>10640</td>\n",
       "      <td>1700.0</td>\n",
       "      <td>500.00</td>\n",
       "      <td>1700</td>\n",
       "      <td>1700</td>\n",
       "      <td>1700.0</td>\n",
       "      <td>1700</td>\n",
       "      <td>2</td>\n",
       "    </tr>\n",
       "    <tr>\n",
       "      <th>3</th>\n",
       "      <td>1</td>\n",
       "      <td>1</td>\n",
       "      <td>25</td>\n",
       "      <td>1.0</td>\n",
       "      <td>1.0</td>\n",
       "      <td>1</td>\n",
       "      <td>1</td>\n",
       "      <td>1</td>\n",
       "      <td>1</td>\n",
       "      <td>1</td>\n",
       "      <td>...</td>\n",
       "      <td>4200.0</td>\n",
       "      <td>4200</td>\n",
       "      <td>4200</td>\n",
       "      <td>4997.9</td>\n",
       "      <td>1200.00</td>\n",
       "      <td>3000</td>\n",
       "      <td>3000</td>\n",
       "      <td>3000.0</td>\n",
       "      <td>3000</td>\n",
       "      <td>25</td>\n",
       "    </tr>\n",
       "    <tr>\n",
       "      <th>4</th>\n",
       "      <td>1</td>\n",
       "      <td>1</td>\n",
       "      <td>25</td>\n",
       "      <td>1.0</td>\n",
       "      <td>0.0</td>\n",
       "      <td>1</td>\n",
       "      <td>1</td>\n",
       "      <td>1</td>\n",
       "      <td>1</td>\n",
       "      <td>1</td>\n",
       "      <td>...</td>\n",
       "      <td>4500.0</td>\n",
       "      <td>4500</td>\n",
       "      <td>4500</td>\n",
       "      <td>4500.0</td>\n",
       "      <td>2142.40</td>\n",
       "      <td>4500</td>\n",
       "      <td>4500</td>\n",
       "      <td>4500.0</td>\n",
       "      <td>4500</td>\n",
       "      <td>61</td>\n",
       "    </tr>\n",
       "  </tbody>\n",
       "</table>\n",
       "<p>5 rows × 32 columns</p>\n",
       "</div>"
      ],
      "text/plain": [
       "   is_positive  gender  age  is_id_mob_pro_same  is_id_mob_city_same  \\\n",
       "0            1       1   25                 1.0                  0.0   \n",
       "1            1       1   27                 1.0                  0.0   \n",
       "2            1       1   31                 1.0                  1.0   \n",
       "3            1       1   25                 1.0                  1.0   \n",
       "4            1       1   25                 1.0                  0.0   \n",
       "\n",
       "  phone_operator  is_same_mobile_num  is_same_recv_acct_no  \\\n",
       "0              1                   1                     1   \n",
       "1              0                   1                     0   \n",
       "2              1                   1                     1   \n",
       "3              1                   1                     1   \n",
       "4              1                   1                     1   \n",
       "\n",
       "   is_same_loan_bank_name  is_same_loan_bank_province        ...          \\\n",
       "0                       1                           1        ...           \n",
       "1                       0                           1        ...           \n",
       "2                       1                           1        ...           \n",
       "3                       1                           1        ...           \n",
       "4                       1                           1        ...           \n",
       "\n",
       "   sum_loan_con_amt_6  sum_issue_amt_3  sum_issue_amt_6  max_loan_con_amt  \\\n",
       "0              2300.0             2300             2300            2300.0   \n",
       "1             11000.0            11000            11000            9500.0   \n",
       "2             10640.0             7900            10640            1700.0   \n",
       "3              4200.0             4200             4200            4997.9   \n",
       "4              4500.0             4500             4500            4500.0   \n",
       "\n",
       "   min_loan_con_amt  max_loan_con_amt_3  max_issue_amt_3  max_loan_con_amt_6  \\\n",
       "0           2300.00                2300             2300              2300.0   \n",
       "1           1146.99                9500             9500              9500.0   \n",
       "2            500.00                1700             1700              1700.0   \n",
       "3           1200.00                3000             3000              3000.0   \n",
       "4           2142.40                4500             4500              4500.0   \n",
       "\n",
       "   max_issue_amt_6  recent_apply_days  \n",
       "0             2300                 34  \n",
       "1             9500                 15  \n",
       "2             1700                  2  \n",
       "3             3000                 25  \n",
       "4             4500                 61  \n",
       "\n",
       "[5 rows x 32 columns]"
      ]
     },
     "execution_count": 10,
     "metadata": {},
     "output_type": "execute_result"
    }
   ],
   "source": [
    "df1.head()"
   ]
  },
  {
   "cell_type": "code",
   "execution_count": 11,
   "metadata": {},
   "outputs": [
    {
     "data": {
      "text/plain": [
       "<matplotlib.axes._subplots.AxesSubplot at 0x915e550>"
      ]
     },
     "execution_count": 11,
     "metadata": {},
     "output_type": "execute_result"
    },
    {
     "data": {
      "image/png": "[encoded data removed]",
      "text/plain": [
       "<Figure size 432x288 with 1 Axes>"
      ]
     },
     "metadata": {},
     "output_type": "display_data"
    }
   ],
   "source": [
    "#查看年龄的分布\n",
    "tmp_df=df1['age'].value_counts()\n",
    "tmp_df.sort_index(ascending=True).plot(kind='bar')"
   ]
  },
  {
   "cell_type": "code",
   "execution_count": 12,
   "metadata": {
    "scrolled": true
   },
   "outputs": [
    {
     "data": {
      "text/plain": [
       "<matplotlib.axes._subplots.AxesSubplot at 0x9e775f8>"
      ]
     },
     "execution_count": 12,
     "metadata": {},
     "output_type": "execute_result"
    },
    {
     "data": {
      "image/png": "[encoded data removed]",
      "text/plain": [
       "<Figure size 432x288 with 1 Axes>"
      ]
     },
     "metadata": {},
     "output_type": "display_data"
    }
   ],
   "source": [
    "#查看性别的分布\n",
    "tmp_df=df['gender'].value_counts()\n",
    "tmp_df.sort_index(ascending=True).plot(kind='bar')"
   ]
  },
  {
   "cell_type": "code",
   "execution_count": 13,
   "metadata": {},
   "outputs": [
    {
     "data": {
      "text/plain": [
       "[Text(0,0,'历史合同数'), Text(0,0,'近三个月合同数'), Text(0,0,'近六个月合同数')]"
      ]
     },
     "execution_count": 13,
     "metadata": {},
     "output_type": "execute_result"
    },
    {
     "data": {
      "image/png": "[encoded data removed]",
      "text/plain": [
       "<Figure size 1440x1080 with 2 Axes>"
      ]
     },
     "metadata": {},
     "output_type": "display_data"
    }
   ],
   "source": [
    "mpl.rcParams['font.sans-serif'] = ['SimHei']\n",
    "x11=df1['diff_mobile_num']\n",
    "x12=df1['diff_bank_account_num']\n",
    "x13=df1['diff_bank_id_num']\n",
    "x14=df1['diff_bank_province_num']\n",
    "x15=df1['diff_bank_city_num']\n",
    "x16=df1['sum_loan_con_num']\n",
    "x17=df1['sum_loan_con_num_3']\n",
    "x18=df1['sum_loan_con_num_6']\n",
    "fig=plt.figure(figsize=(20,15))\n",
    "ax1=fig.add_subplot(221)\n",
    "ax1.boxplot([x11,x12,x13,x14,x15])\n",
    "ax1.set_xticklabels([\"历史手机号数量\",\"历史还款银行卡数量\",\"历史还款银行地址数量\",\"历史还款银行卡省份数\",\"历史还款银行卡城市数\"], fontsize=12)\n",
    "ax2=fig.add_subplot(222)\n",
    "ax2.boxplot([x16,x17,x18])\n",
    "ax2.set_xticklabels([\"历史合同数\",\"近三个月合同数\",\"近六个月合同数\"], fontsize=12)"
   ]
  },
  {
   "cell_type": "code",
   "execution_count": 14,
   "metadata": {},
   "outputs": [],
   "source": [
    "#由上图可以看出，x11到x15需要人工分箱，建议还是看下条形图再做判断\n",
    "#x16到x18可以考虑最优分箱，同样是建议看下条形图"
   ]
  },
  {
   "cell_type": "code",
   "execution_count": 15,
   "metadata": {},
   "outputs": [
    {
     "data": {
      "text/plain": [
       "Text(0.5,1,'历史还款银行卡城市数')"
      ]
     },
     "execution_count": 15,
     "metadata": {},
     "output_type": "execute_result"
    },
    {
     "data": {
      "image/png": "[encoded data removed]",
      "text/plain": [
       "<Figure size 1440x1080 with 5 Axes>"
      ]
     },
     "metadata": {},
     "output_type": "display_data"
    }
   ],
   "source": [
    "fig=plt.figure(figsize=(20,15))\n",
    "dfx11=x11.value_counts().sort_index(ascending=True)\n",
    "index11=dfx11.index\n",
    "value11=dfx11.values\n",
    "dfx12=x12.value_counts().sort_index(ascending=True)\n",
    "index12=dfx12.index\n",
    "value12=dfx12.values\n",
    "dfx13=x13.value_counts().sort_index(ascending=True)\n",
    "index13=dfx13.index\n",
    "value13=dfx13.values\n",
    "dfx14=x14.value_counts().sort_index(ascending=True)\n",
    "index14=dfx14.index\n",
    "value14=dfx14.values\n",
    "dfx15=x15.value_counts().sort_index(ascending=True)\n",
    "index15=dfx15.index\n",
    "value15=dfx15.values\n",
    "\n",
    "ax1=fig.add_subplot(321)\n",
    "ax1.bar(index11,value11)\n",
    "ax1.set_title('历史手机号数量')\n",
    "ax2=fig.add_subplot(322)\n",
    "ax2.bar(index12,value12)\n",
    "ax2.set_title('历史还款银行卡数量')\n",
    "ax3=fig.add_subplot(323)\n",
    "ax3.bar(index13,value13)\n",
    "ax3.set_title('历史还款银行地址数量')\n",
    "ax4=fig.add_subplot(324)\n",
    "ax4.bar(index14,value14)\n",
    "ax4.set_title('历史还款银行卡省份数')\n",
    "ax5=fig.add_subplot(325)\n",
    "ax5.bar(index15,value15)\n",
    "ax5.set_title('历史还款银行卡城市数')"
   ]
  },
  {
   "cell_type": "code",
   "execution_count": 16,
   "metadata": {},
   "outputs": [
    {
     "data": {
      "text/plain": [
       "Text(0.5,1,'近六个月合同数')"
      ]
     },
     "execution_count": 16,
     "metadata": {},
     "output_type": "execute_result"
    },
    {
     "data": {
      "image/png": "[encoded data removed]",
      "text/plain": [
       "<Figure size 1440x1080 with 3 Axes>"
      ]
     },
     "metadata": {},
     "output_type": "display_data"
    }
   ],
   "source": [
    "fig=plt.figure(figsize=(20,15))\n",
    "dfx16=x16.value_counts().sort_index(ascending=True)\n",
    "index16=dfx16.index\n",
    "value16=dfx16.values\n",
    "dfx17=x17.value_counts().sort_index(ascending=True)\n",
    "index17=dfx17.index\n",
    "value17=dfx17.values\n",
    "dfx18=x18.value_counts().sort_index(ascending=True)\n",
    "index18=dfx18.index\n",
    "value18=dfx18.values\n",
    "\n",
    "\n",
    "ax1=fig.add_subplot(221)\n",
    "ax1.bar(index16,value16)\n",
    "ax1.set_title('历史合同数')\n",
    "ax2=fig.add_subplot(222)\n",
    "ax2.bar(index17,value17)\n",
    "ax2.set_title('近三个月合同数')\n",
    "ax3=fig.add_subplot(223)\n",
    "ax3.bar(index18,value18)\n",
    "ax3.set_title('近六个月合同数')\n"
   ]
  },
  {
   "cell_type": "code",
   "execution_count": 17,
   "metadata": {},
   "outputs": [
    {
     "data": {
      "text/plain": [
       "Text(0.5,1,'最近一次申请距当前申请日天数')"
      ]
     },
     "execution_count": 17,
     "metadata": {},
     "output_type": "execute_result"
    },
    {
     "data": {
      "image/png": "[encoded data removed]",
      "text/plain": [
       "<Figure size 1440x1080 with 6 Axes>"
      ]
     },
     "metadata": {},
     "output_type": "display_data"
    }
   ],
   "source": [
    "x21=df1['sum_loan_con_amt_3']\n",
    "x23=df1['sum_issue_amt_3']\n",
    "x26=df1['min_loan_con_amt']\n",
    "x27=df1['max_loan_con_amt_3']\n",
    "x28=df1['max_issue_amt_3']\n",
    "x31=df1['recent_apply_days']\n",
    "\n",
    "fig=plt.figure(figsize=(20,15))\n",
    "dfx21=x21.value_counts().sort_index(ascending=True)\n",
    "index21=dfx21.index\n",
    "value21=dfx21.values\n",
    "dfx23=x23.value_counts().sort_index(ascending=True)\n",
    "index23=dfx23.index\n",
    "value23=dfx23.values\n",
    "dfx26=x26.value_counts().sort_index(ascending=True)\n",
    "index26=dfx26.index\n",
    "value26=dfx26.values\n",
    "dfx27=x27.value_counts().sort_index(ascending=True)\n",
    "index27=dfx27.index\n",
    "value27=dfx27.values\n",
    "dfx28=x28.value_counts().sort_index(ascending=True)\n",
    "index28=dfx28.index\n",
    "value28=dfx28.values\n",
    "dfx31=x31.value_counts().sort_index(ascending=True)\n",
    "index31=dfx31.index\n",
    "value31=dfx31.values\n",
    "\n",
    "\n",
    "ax1=fig.add_subplot(321)\n",
    "ax1.bar(index21,value21)\n",
    "ax1.set_title('近三个月合同金额')\n",
    "ax2=fig.add_subplot(322)\n",
    "ax2.bar(index23,value23)\n",
    "ax2.set_title('近三个月到手金额')\n",
    "ax3=fig.add_subplot(323)\n",
    "ax3.bar(index26,value26)\n",
    "ax3.set_title('历史最小合同金额')\n",
    "ax4=fig.add_subplot(324)\n",
    "ax4.bar(index27,value27)\n",
    "ax4.set_title('近三个月最大合同金额')\n",
    "ax5=fig.add_subplot(325)\n",
    "ax5.bar(index28,value28)\n",
    "ax5.set_title('近三个月最大到手合同金额')\n",
    "ax6=fig.add_subplot(326)\n",
    "ax6.bar(index31,value31)\n",
    "ax6.set_title('最近一次申请距当前申请日天数')"
   ]
  },
  {
   "cell_type": "code",
   "execution_count": 18,
   "metadata": {},
   "outputs": [],
   "source": [
    "df1.to_csv('E:\\工作资料\\风控\\测试工程\\PretreatmentData.csv')"
   ]
  },
  {
   "cell_type": "code",
   "execution_count": 19,
   "metadata": {},
   "outputs": [],
   "source": [
    "#为了验证模型的拟合效果，我们需要对数据集进行切分，分成训练集和测试集"
   ]
  },
  {
   "cell_type": "code",
   "execution_count": 20,
   "metadata": {},
   "outputs": [
    {
     "name": "stderr",
     "output_type": "stream",
     "text": [
      "D:\\Anaconda\\lib\\site-packages\\sklearn\\cross_validation.py:41: DeprecationWarning: This module was deprecated in version 0.18 in favor of the model_selection module into which all the refactored classes and functions are moved. Also note that the interface of the new CV iterators are different from that of this module. This module will be removed in 0.20.\n",
      "  \"This module will be removed in 0.20.\", DeprecationWarning)\n"
     ]
    }
   ],
   "source": [
    "from sklearn.cross_validation import train_test_split"
   ]
  },
  {
   "cell_type": "code",
   "execution_count": 21,
   "metadata": {},
   "outputs": [
    {
     "name": "stdout",
     "output_type": "stream",
     "text": [
      "is_positive\n",
      "0    2783\n",
      "1    6301\n",
      "Name: is_positive, dtype: int64\n"
     ]
    }
   ],
   "source": [
    "Y = df1['is_positive']\n",
    "X = df1.iloc[:, 1:]\n",
    "#测试集占比20%\n",
    "X_train, X_test, Y_train, Y_test = train_test_split(X, Y, test_size=0.2, random_state=0)\n",
    "# print(Y_train)\n",
    "train = pd.concat([Y_train, X_train], axis=1)\n",
    "test = pd.concat([Y_test, X_test], axis=1)\n",
    "classTest = test.groupby('is_positive')['is_positive'].count()\n",
    "print(classTest)\n",
    "train.to_csv('E:\\工作资料\\风控\\测试工程\\TrainData.csv',index=False)\n",
    "test.to_csv('E:\\工作资料\\风控\\测试工程\\TestData.csv',index=False)"
   ]
  },
  {
   "cell_type": "code",
   "execution_count": 22,
   "metadata": {},
   "outputs": [],
   "source": [
    "#目前的数据相对规整，这里省略探索性分析，接着进行分箱"
   ]
  },
  {
   "cell_type": "code",
   "execution_count": 23,
   "metadata": {},
   "outputs": [],
   "source": [
    "#定义最优分箱函数\n",
    "def mono_bin(Y, X, n = 20):\n",
    "    r = 0\n",
    "    good=Y.sum()\n",
    "    bad=Y.count()-good\n",
    "    while np.abs(r) < 1:\n",
    "        d1 = pd.DataFrame({\"X\": X, \"Y\": Y, \"Bucket\": pd.qcut(X, n)})\n",
    "        d2 = d1.groupby('Bucket', as_index = True)\n",
    "        r, p = stats.spearmanr(d2.mean().X, d2.mean().Y)\n",
    "        n = n - 1\n",
    "    d3 = pd.DataFrame(d2.X.min(), columns = ['min'])\n",
    "    d3['min']=d2.min().X\n",
    "    d3['max'] = d2.max().X\n",
    "    d3['sum'] = d2.sum().Y\n",
    "    d3['total'] = d2.count().Y\n",
    "    d3['rate'] = d2.mean().Y\n",
    "    d3['woe']=np.log((d3['rate']/(1-d3['rate']))/(good/bad))\n",
    "    d3['goodattribute']=d3['sum']/good\n",
    "    d3['badattribute']=(d3['total']-d3['sum'])/bad\n",
    "    iv=((d3['goodattribute']-d3['badattribute'])*d3['woe']).sum()\n",
    "    d4 = (d3.sort_index(by = 'min'))\n",
    "    print(\"=\" * 60)\n",
    "    print(d4)\n",
    "    cut=[]\n",
    "    cut.append(float('-inf'))\n",
    "    for i in range(1,n+1):\n",
    "        qua=X.quantile(i/(n+1))\n",
    "        cut.append(round(qua,4))\n",
    "    cut.append(float('inf'))\n",
    "    woe=list(d4['woe'].round(3))\n",
    "    return d4,iv,cut,woe"
   ]
  },
  {
   "cell_type": "code",
   "execution_count": 24,
   "metadata": {},
   "outputs": [],
   "source": [
    "#对特征做最优分箱\n",
    "import scipy.stats.stats as stats"
   ]
  },
  {
   "cell_type": "code",
   "execution_count": 25,
   "metadata": {},
   "outputs": [],
   "source": [
    "f_tmp=open(\"E:\\工作资料\\风控\\测试工程\\TrainData.csv\")\n",
    "data= pd.read_csv(f_tmp)"
   ]
  },
  {
   "cell_type": "code",
   "execution_count": 26,
   "metadata": {},
   "outputs": [
    {
     "data": {
      "text/html": [
       "<div>\n",
       "<style scoped>\n",
       "    .dataframe tbody tr th:only-of-type {\n",
       "        vertical-align: middle;\n",
       "    }\n",
       "\n",
       "    .dataframe tbody tr th {\n",
       "        vertical-align: top;\n",
       "    }\n",
       "\n",
       "    .dataframe thead th {\n",
       "        text-align: right;\n",
       "    }\n",
       "</style>\n",
       "<table border=\"1\" class=\"dataframe\">\n",
       "  <thead>\n",
       "    <tr style=\"text-align: right;\">\n",
       "      <th></th>\n",
       "      <th>is_positive</th>\n",
       "      <th>gender</th>\n",
       "      <th>age</th>\n",
       "      <th>is_id_mob_pro_same</th>\n",
       "      <th>is_id_mob_city_same</th>\n",
       "      <th>phone_operator</th>\n",
       "      <th>is_same_mobile_num</th>\n",
       "      <th>is_same_recv_acct_no</th>\n",
       "      <th>is_same_loan_bank_name</th>\n",
       "      <th>is_same_loan_bank_province</th>\n",
       "      <th>...</th>\n",
       "      <th>sum_loan_con_amt_6</th>\n",
       "      <th>sum_issue_amt_3</th>\n",
       "      <th>sum_issue_amt_6</th>\n",
       "      <th>max_loan_con_amt</th>\n",
       "      <th>min_loan_con_amt</th>\n",
       "      <th>max_loan_con_amt_3</th>\n",
       "      <th>max_issue_amt_3</th>\n",
       "      <th>max_loan_con_amt_6</th>\n",
       "      <th>max_issue_amt_6</th>\n",
       "      <th>recent_apply_days</th>\n",
       "    </tr>\n",
       "  </thead>\n",
       "  <tbody>\n",
       "    <tr>\n",
       "      <th>0</th>\n",
       "      <td>0</td>\n",
       "      <td>0</td>\n",
       "      <td>37</td>\n",
       "      <td>1.0</td>\n",
       "      <td>0.0</td>\n",
       "      <td>1</td>\n",
       "      <td>1</td>\n",
       "      <td>1</td>\n",
       "      <td>0</td>\n",
       "      <td>1</td>\n",
       "      <td>...</td>\n",
       "      <td>4422.0</td>\n",
       "      <td>0</td>\n",
       "      <td>4422</td>\n",
       "      <td>3316.00</td>\n",
       "      <td>1106.0</td>\n",
       "      <td>0</td>\n",
       "      <td>0</td>\n",
       "      <td>3316.0</td>\n",
       "      <td>3316</td>\n",
       "      <td>120</td>\n",
       "    </tr>\n",
       "    <tr>\n",
       "      <th>1</th>\n",
       "      <td>1</td>\n",
       "      <td>1</td>\n",
       "      <td>25</td>\n",
       "      <td>1.0</td>\n",
       "      <td>0.0</td>\n",
       "      <td>1</td>\n",
       "      <td>1</td>\n",
       "      <td>1</td>\n",
       "      <td>1</td>\n",
       "      <td>1</td>\n",
       "      <td>...</td>\n",
       "      <td>6300.0</td>\n",
       "      <td>3200</td>\n",
       "      <td>6300</td>\n",
       "      <td>1800.00</td>\n",
       "      <td>500.0</td>\n",
       "      <td>1500</td>\n",
       "      <td>1500</td>\n",
       "      <td>1800.0</td>\n",
       "      <td>1800</td>\n",
       "      <td>52</td>\n",
       "    </tr>\n",
       "    <tr>\n",
       "      <th>2</th>\n",
       "      <td>1</td>\n",
       "      <td>1</td>\n",
       "      <td>23</td>\n",
       "      <td>1.0</td>\n",
       "      <td>0.0</td>\n",
       "      <td>1</td>\n",
       "      <td>1</td>\n",
       "      <td>1</td>\n",
       "      <td>1</td>\n",
       "      <td>1</td>\n",
       "      <td>...</td>\n",
       "      <td>1100.0</td>\n",
       "      <td>1100</td>\n",
       "      <td>1100</td>\n",
       "      <td>1217.40</td>\n",
       "      <td>500.0</td>\n",
       "      <td>600</td>\n",
       "      <td>600</td>\n",
       "      <td>600.0</td>\n",
       "      <td>600</td>\n",
       "      <td>29</td>\n",
       "    </tr>\n",
       "    <tr>\n",
       "      <th>3</th>\n",
       "      <td>0</td>\n",
       "      <td>1</td>\n",
       "      <td>33</td>\n",
       "      <td>0.0</td>\n",
       "      <td>0.0</td>\n",
       "      <td>1</td>\n",
       "      <td>1</td>\n",
       "      <td>1</td>\n",
       "      <td>1</td>\n",
       "      <td>1</td>\n",
       "      <td>...</td>\n",
       "      <td>1200.0</td>\n",
       "      <td>700</td>\n",
       "      <td>1200</td>\n",
       "      <td>2142.40</td>\n",
       "      <td>500.0</td>\n",
       "      <td>700</td>\n",
       "      <td>700</td>\n",
       "      <td>700.0</td>\n",
       "      <td>700</td>\n",
       "      <td>76</td>\n",
       "    </tr>\n",
       "    <tr>\n",
       "      <th>4</th>\n",
       "      <td>0</td>\n",
       "      <td>1</td>\n",
       "      <td>23</td>\n",
       "      <td>0.0</td>\n",
       "      <td>0.0</td>\n",
       "      <td>1</td>\n",
       "      <td>1</td>\n",
       "      <td>1</td>\n",
       "      <td>1</td>\n",
       "      <td>1</td>\n",
       "      <td>...</td>\n",
       "      <td>3200.0</td>\n",
       "      <td>0</td>\n",
       "      <td>3200</td>\n",
       "      <td>5756.51</td>\n",
       "      <td>700.0</td>\n",
       "      <td>0</td>\n",
       "      <td>0</td>\n",
       "      <td>2500.0</td>\n",
       "      <td>2500</td>\n",
       "      <td>91</td>\n",
       "    </tr>\n",
       "  </tbody>\n",
       "</table>\n",
       "<p>5 rows × 32 columns</p>\n",
       "</div>"
      ],
      "text/plain": [
       "   is_positive  gender  age  is_id_mob_pro_same  is_id_mob_city_same  \\\n",
       "0            0       0   37                 1.0                  0.0   \n",
       "1            1       1   25                 1.0                  0.0   \n",
       "2            1       1   23                 1.0                  0.0   \n",
       "3            0       1   33                 0.0                  0.0   \n",
       "4            0       1   23                 0.0                  0.0   \n",
       "\n",
       "   phone_operator  is_same_mobile_num  is_same_recv_acct_no  \\\n",
       "0               1                   1                     1   \n",
       "1               1                   1                     1   \n",
       "2               1                   1                     1   \n",
       "3               1                   1                     1   \n",
       "4               1                   1                     1   \n",
       "\n",
       "   is_same_loan_bank_name  is_same_loan_bank_province        ...          \\\n",
       "0                       0                           1        ...           \n",
       "1                       1                           1        ...           \n",
       "2                       1                           1        ...           \n",
       "3                       1                           1        ...           \n",
       "4                       1                           1        ...           \n",
       "\n",
       "   sum_loan_con_amt_6  sum_issue_amt_3  sum_issue_amt_6  max_loan_con_amt  \\\n",
       "0              4422.0                0             4422           3316.00   \n",
       "1              6300.0             3200             6300           1800.00   \n",
       "2              1100.0             1100             1100           1217.40   \n",
       "3              1200.0              700             1200           2142.40   \n",
       "4              3200.0                0             3200           5756.51   \n",
       "\n",
       "   min_loan_con_amt  max_loan_con_amt_3  max_issue_amt_3  max_loan_con_amt_6  \\\n",
       "0            1106.0                   0                0              3316.0   \n",
       "1             500.0                1500             1500              1800.0   \n",
       "2             500.0                 600              600               600.0   \n",
       "3             500.0                 700              700               700.0   \n",
       "4             700.0                   0                0              2500.0   \n",
       "\n",
       "   max_issue_amt_6  recent_apply_days  \n",
       "0             3316                120  \n",
       "1             1800                 52  \n",
       "2              600                 29  \n",
       "3              700                 76  \n",
       "4             2500                 91  \n",
       "\n",
       "[5 rows x 32 columns]"
      ]
     },
     "execution_count": 26,
     "metadata": {},
     "output_type": "execute_result"
    }
   ],
   "source": [
    "data.head()"
   ]
  },
  {
   "cell_type": "code",
   "execution_count": 27,
   "metadata": {},
   "outputs": [
    {
     "name": "stdout",
     "output_type": "stream",
     "text": [
      "============================================================\n",
      "                           min       max   sum  total      rate       woe  \\\n",
      "Bucket                                                                      \n",
      "(499.999, 1500.0]       500.00   1500.00  4216   4436  0.950406  2.106084   \n",
      "(1500.0, 2225.62]      1501.00   2225.62  3191   3639  0.876889  1.116365   \n",
      "(2225.62, 3164.65]     2225.84   3164.65  3322   4037  0.822888  0.689109   \n",
      "(3164.65, 4142.4]      3166.00   4142.40  3071   4069  0.754731  0.277074   \n",
      "(4142.4, 5213.08]      4142.70   5213.08  2782   4005  0.694632 -0.025068   \n",
      "(5213.08, 6600.0]      5213.60   6600.00  2545   4061  0.626693 -0.328876   \n",
      "(6600.0, 8469.63]      6600.01   8469.63  2281   4013  0.568403 -0.571594   \n",
      "(8469.63, 11480.89]    8470.03  11480.89  2183   4037  0.540748 -0.683576   \n",
      "(11480.89, 81207.02]  11482.87  81207.02  1840   4037  0.455784 -1.024258   \n",
      "\n",
      "                      goodattribute  badattribute  \n",
      "Bucket                                             \n",
      "(499.999, 1500.0]          0.165782      0.020178  \n",
      "(1500.0, 2225.62]          0.125477      0.041090  \n",
      "(2225.62, 3164.65]         0.130628      0.065578  \n",
      "(3164.65, 4142.4]          0.120758      0.091534  \n",
      "(4142.4, 5213.08]          0.109394      0.112171  \n",
      "(5213.08, 6600.0]          0.100075      0.139044  \n",
      "(6600.0, 8469.63]          0.089694      0.158855  \n",
      "(8469.63, 11480.89]        0.085840      0.170045  \n",
      "(11480.89, 81207.02]       0.072353      0.201504  \n"
     ]
    },
    {
     "name": "stderr",
     "output_type": "stream",
     "text": [
      "D:\\Anaconda\\lib\\site-packages\\ipykernel_launcher.py:21: FutureWarning: by argument to sort_index is deprecated, please use .sort_values(by=...)\n"
     ]
    }
   ],
   "source": [
    "#历史合同金额\n",
    "dfx19,ivx19,cutx19,woex19=mono_bin(data.is_positive,data.sum_loan_con_amt,n=10)"
   ]
  },
  {
   "cell_type": "code",
   "execution_count": 28,
   "metadata": {},
   "outputs": [
    {
     "name": "stdout",
     "output_type": "stream",
     "text": [
      "============================================================\n",
      "                      min    max   sum  total      rate       woe  \\\n",
      "Bucket                                                              \n",
      "(499.999, 1400.0]     500   1400  3844   4039  0.951721  2.134338   \n",
      "(1400.0, 2200.0]     1404   2200  3756   4266  0.880450  1.149768   \n",
      "(2200.0, 3059.0]     2201   3059  3138   3808  0.824055  0.697132   \n",
      "(3059.0, 4000.0]     3060   4000  3069   4076  0.752944  0.267445   \n",
      "(4000.0, 5005.0]     4001   5005  2799   4000  0.699750 -0.000823   \n",
      "(5005.0, 6400.0]     5006   6400  2527   4058  0.622721 -0.345819   \n",
      "(6400.0, 8221.0]     6401   8219  2313   4012  0.576520 -0.538425   \n",
      "(8221.0, 11156.0]    8221  11156  2147   4038  0.531699 -0.719965   \n",
      "(11156.0, 80084.0]  11157  80084  1838   4037  0.455289 -1.026256   \n",
      "\n",
      "                    goodattribute  badattribute  \n",
      "Bucket                                           \n",
      "(499.999, 1400.0]        0.151154      0.017885  \n",
      "(1400.0, 2200.0]         0.147694      0.046776  \n",
      "(2200.0, 3059.0]         0.123393      0.061451  \n",
      "(3059.0, 4000.0]         0.120679      0.092360  \n",
      "(4000.0, 5005.0]         0.110063      0.110153  \n",
      "(5005.0, 6400.0]         0.099367      0.140420  \n",
      "(6400.0, 8221.0]         0.090952      0.155829  \n",
      "(8221.0, 11156.0]        0.084425      0.173439  \n",
      "(11156.0, 80084.0]       0.072274      0.201688  \n"
     ]
    },
    {
     "name": "stderr",
     "output_type": "stream",
     "text": [
      "D:\\Anaconda\\lib\\site-packages\\ipykernel_launcher.py:21: FutureWarning: by argument to sort_index is deprecated, please use .sort_values(by=...)\n"
     ]
    }
   ],
   "source": [
    "#历史到手金额\n",
    "dfx20,ivx20,cutx20,woex20=mono_bin(data.is_positive,data.sum_issue_amt,n=10)"
   ]
  },
  {
   "cell_type": "code",
   "execution_count": 29,
   "metadata": {},
   "outputs": [
    {
     "name": "stdout",
     "output_type": "stream",
     "text": [
      "============================================================\n",
      "                      min      max   sum  total      rate       woe  \\\n",
      "Bucket                                                                \n",
      "(-0.001, 1000.0]      0.0   1000.0  5576   6562  0.849741  0.885640   \n",
      "(1000.0, 2000.0]   1001.0   2000.0  4940   6029  0.819373  0.665175   \n",
      "(2000.0, 3100.0]   2001.0   3100.0  4340   5833  0.744043  0.220156   \n",
      "(3100.0, 4460.0]   3101.2   4460.0  3900   5800  0.672414 -0.127808   \n",
      "(4460.0, 6500.0]   4461.0   6500.0  3732   6207  0.601257 -0.436227   \n",
      "(6500.0, 46700.0]  6506.0  46700.0  2943   5903  0.498560 -0.852691   \n",
      "\n",
      "                   goodattribute  badattribute  \n",
      "Bucket                                          \n",
      "(-0.001, 1000.0]        0.219260      0.090434  \n",
      "(1000.0, 2000.0]        0.194251      0.099881  \n",
      "(2000.0, 3100.0]        0.170658      0.136935  \n",
      "(3100.0, 4460.0]        0.153356      0.174264  \n",
      "(4460.0, 6500.0]        0.146750      0.227002  \n",
      "(6500.0, 46700.0]       0.115725      0.271485  \n"
     ]
    },
    {
     "name": "stderr",
     "output_type": "stream",
     "text": [
      "D:\\Anaconda\\lib\\site-packages\\ipykernel_launcher.py:21: FutureWarning: by argument to sort_index is deprecated, please use .sort_values(by=...)\n"
     ]
    }
   ],
   "source": [
    "#近六个月合同金额\n",
    "dfx22,ivx22,cutx22,woex22=mono_bin(data.is_positive,data.sum_loan_con_amt_6,n=10)"
   ]
  },
  {
   "cell_type": "code",
   "execution_count": 30,
   "metadata": {},
   "outputs": [
    {
     "name": "stdout",
     "output_type": "stream",
     "text": [
      "============================================================\n",
      "                    min    max   sum  total      rate       woe  \\\n",
      "Bucket                                                            \n",
      "(-0.001, 1000.0]      0   1000  5591   6582  0.849438  0.883268   \n",
      "(1000.0, 2000.0]   1001   2000  5037   6169  0.816502  0.645894   \n",
      "(2000.0, 3100.0]   2001   3100  4254   5723  0.743316  0.216347   \n",
      "(3100.0, 4436.0]   3102   4436  3872   5750  0.673391 -0.123367   \n",
      "(4436.0, 6473.0]   4438   6472  3653   6054  0.603403 -0.427267   \n",
      "(6473.0, 46700.0]  6474  46700  3024   6056  0.499339 -0.849573   \n",
      "\n",
      "                   goodattribute  badattribute  \n",
      "Bucket                                          \n",
      "(-0.001, 1000.0]        0.219850      0.090892  \n",
      "(1000.0, 2000.0]        0.198065      0.103825  \n",
      "(2000.0, 3100.0]        0.167276      0.134734  \n",
      "(3100.0, 4436.0]        0.152255      0.172246  \n",
      "(4436.0, 6473.0]        0.143644      0.220215  \n",
      "(6473.0, 46700.0]       0.118910      0.278089  \n"
     ]
    },
    {
     "name": "stderr",
     "output_type": "stream",
     "text": [
      "D:\\Anaconda\\lib\\site-packages\\ipykernel_launcher.py:21: FutureWarning: by argument to sort_index is deprecated, please use .sort_values(by=...)\n"
     ]
    }
   ],
   "source": [
    "#近六个月到手金额\n",
    "dfx24,ivx24,cutx24,woex24=mono_bin(data.is_positive,data.sum_issue_amt_6,n=10)"
   ]
  },
  {
   "cell_type": "code",
   "execution_count": 31,
   "metadata": {},
   "outputs": [
    {
     "name": "stdout",
     "output_type": "stream",
     "text": [
      "============================================================\n",
      "                        min       max   sum  total      rate       woe  \\\n",
      "Bucket                                                                   \n",
      "(499.999, 1159.74]   500.00   1159.48  5121   6056  0.845608  0.853628   \n",
      "(1159.74, 1700.0]   1160.00   1700.00  4584   6450  0.710698  0.051844   \n",
      "(1700.0, 2100.0]    1700.73   2100.00  4011   5920  0.677534 -0.104470   \n",
      "(2100.0, 2833.0]    2101.30   2833.00  3885   5797  0.670174 -0.137958   \n",
      "(2833.0, 4200.0]    2833.33   4200.00  4004   6084  0.658120 -0.192005   \n",
      "(4200.0, 11658.1]   4200.70  11658.10  3826   6027  0.634810 -0.294023   \n",
      "\n",
      "                    goodattribute  badattribute  \n",
      "Bucket                                           \n",
      "(499.999, 1159.74]       0.201368      0.085756  \n",
      "(1159.74, 1700.0]        0.180252      0.171146  \n",
      "(1700.0, 2100.0]         0.157721      0.175089  \n",
      "(2100.0, 2833.0]         0.152766      0.175365  \n",
      "(2833.0, 4200.0]         0.157446      0.190773  \n",
      "(4200.0, 11658.1]        0.150446      0.201871  \n"
     ]
    },
    {
     "name": "stderr",
     "output_type": "stream",
     "text": [
      "D:\\Anaconda\\lib\\site-packages\\ipykernel_launcher.py:21: FutureWarning: by argument to sort_index is deprecated, please use .sort_values(by=...)\n"
     ]
    }
   ],
   "source": [
    "#历史最大合同金额\n",
    "dfx25,ivx25,cutx25,woex25=mono_bin(data.is_positive,data.max_loan_con_amt,n=10)"
   ]
  },
  {
   "cell_type": "code",
   "execution_count": 32,
   "metadata": {},
   "outputs": [
    {
     "name": "stdout",
     "output_type": "stream",
     "text": [
      "============================================================\n",
      "                      min      max   sum  total      rate       woe  \\\n",
      "Bucket                                                                \n",
      "(-0.001, 1200.0]      0.0   1200.0  9892  13140  0.752816  0.266756   \n",
      "(1200.0, 2100.0]   1201.0   2100.0  7845  11626  0.674781 -0.117043   \n",
      "(2100.0, 10000.0]  2101.7  10000.0  7694  11568  0.665111 -0.160778   \n",
      "\n",
      "                   goodattribute  badattribute  \n",
      "Bucket                                          \n",
      "(-0.001, 1200.0]        0.388974      0.297900  \n",
      "(1200.0, 2100.0]        0.308482      0.346785  \n",
      "(2100.0, 10000.0]       0.302544      0.355315  \n"
     ]
    },
    {
     "name": "stderr",
     "output_type": "stream",
     "text": [
      "D:\\Anaconda\\lib\\site-packages\\ipykernel_launcher.py:21: FutureWarning: by argument to sort_index is deprecated, please use .sort_values(by=...)\n"
     ]
    }
   ],
   "source": [
    "#近六个月最大合同金额\n",
    "dfx29,ivx29,cutx29,woex29=mono_bin(data.is_positive,data.max_loan_con_amt_6,n=10)"
   ]
  },
  {
   "cell_type": "code",
   "execution_count": 33,
   "metadata": {},
   "outputs": [
    {
     "name": "stdout",
     "output_type": "stream",
     "text": [
      "============================================================\n",
      "                    min    max   sum  total      rate       woe  \\\n",
      "Bucket                                                            \n",
      "(-0.001, 1200.0]      0   1200  9908  13177  0.751916  0.261927   \n",
      "(1200.0, 2000.0]   1201   2000  7605  11233  0.677023 -0.106807   \n",
      "(2000.0, 10000.0]  2001  10000  7918  11924  0.664039 -0.165586   \n",
      "\n",
      "                   goodattribute  badattribute  \n",
      "Bucket                                          \n",
      "(-0.001, 1200.0]        0.389603      0.299826  \n",
      "(1200.0, 2000.0]        0.299044      0.332752  \n",
      "(2000.0, 10000.0]       0.311352      0.367422  \n"
     ]
    },
    {
     "name": "stderr",
     "output_type": "stream",
     "text": [
      "D:\\Anaconda\\lib\\site-packages\\ipykernel_launcher.py:21: FutureWarning: by argument to sort_index is deprecated, please use .sort_values(by=...)\n"
     ]
    }
   ],
   "source": [
    "#近六个月最大合同金额\n",
    "dfx30,ivx30,cutx30,woex30=mono_bin(data.is_positive,data.max_issue_amt_6,n=10)"
   ]
  },
  {
   "cell_type": "code",
   "execution_count": 34,
   "metadata": {},
   "outputs": [],
   "source": [
    "#针对不能最优分箱的变量，分箱如下：\n",
    "#自定义分箱函数\n",
    "def self_bin(Y,X,cat):\n",
    "    good=Y.sum()\n",
    "    bad=Y.count()-good\n",
    "    d1=pd.DataFrame({'X':X,'Y':Y,'Bucket':pd.cut(X,cat)})\n",
    "    d2=d1.groupby('Bucket', as_index = True)\n",
    "    d3 = pd.DataFrame(d2.X.min(), columns=['min'])\n",
    "    d3['min'] = d2.min().X\n",
    "    d3['max'] = d2.max().X\n",
    "    d3['sum'] = d2.sum().Y\n",
    "    d3['total'] = d2.count().Y\n",
    "    d3['rate'] = d2.mean().Y\n",
    "    d3['woe'] = np.log((d3['rate'] / (1 - d3['rate'])) / (good / bad))\n",
    "    d3['goodattribute'] = d3['sum'] / good\n",
    "    d3['badattribute'] = (d3['total'] - d3['sum']) / bad\n",
    "    iv = ((d3['goodattribute'] - d3['badattribute']) * d3['woe']).sum()\n",
    "    d4 = (d3.sort_index(by='min'))\n",
    "    print(\"=\" * 60)\n",
    "    print(d4)\n",
    "    woe = list(d4['woe'].round(3))\n",
    "    return d4, iv,woe"
   ]
  },
  {
   "cell_type": "code",
   "execution_count": 35,
   "metadata": {},
   "outputs": [],
   "source": [
    "# 连续变量离散化\n",
    "pinf = float('inf')#正无穷大\n",
    "ninf = float('-inf')#负无穷大\n",
    "#性别\n",
    "cutx1 = [ninf, 0, pinf]\n",
    "#年龄\n",
    "cutx2 = [ninf, 22, 27, 34, pinf]\n",
    "#身份证手机省份是否一致\n",
    "cutx3 = [ninf, 0, pinf]\n",
    "#身份证手机城市是否一致\n",
    "cutx4 = [ninf, 0, pinf]\n",
    "#手机运营商\n",
    "cutx5 = [ninf, 0, 1, pinf]\n",
    "#手机号是否相同\n",
    "cutx6 = [ninf, 0, pinf]\n",
    "#收款账户是否相同\n",
    "cutx7 = [ninf, 0, pinf]\n",
    "#借款银行名称是否相同\n",
    "cutx8 = [ninf, 0, pinf]\n",
    "#借款银行省份是否相同\n",
    "cutx9 = [ninf, 0, pinf]\n",
    "#借款银行城市是否相同\n",
    "cutx10 = [ninf, 0, pinf]\n",
    "#历史手机号数量\n",
    "cutx11 = [ninf, 1, pinf]\n",
    "#历史还款银行卡数量\n",
    "cutx12 = [ninf, 1, pinf]\n",
    "#历史还款银行地址数量\n",
    "cutx13 = [ninf, 1, 2, pinf]\n",
    "#历史还款银行卡省份数\n",
    "cutx14 = [ninf, 1, pinf]\n",
    "#历史还款银行卡城市数\n",
    "cutx15 = [ninf, 1, pinf]\n",
    "#历史合同数\n",
    "cutx16 = [ninf, 2, 5, 9, pinf]\n",
    "#近三个月合同数\n",
    "cutx17 = [ninf, 1, 4, pinf]\n",
    "#近六个月合同数\n",
    "cutx18 = [ninf, 1, 4, 8, pinf]\n",
    "\n",
    "#近三个月合同金额\n",
    "cutx21 = [ninf, 3000, 5000, pinf]\n",
    "#近三个月到手金额\n",
    "cutx23 = [ninf, 3000, 5000, pinf]\n",
    "#历史最小合同金额\n",
    "cutx26 = [ninf, 1000, 2000, pinf]\n",
    "#近三个月最大合同金额\n",
    "cutx27 = [ninf, 2000, 3500, pinf]\n",
    "#近三个月最大到手合同金额\n",
    "cutx28 = [ninf, 2000, 3500, pinf]\n",
    "#最近一次申请距当前申请日天数\n",
    "cutx31 = [ninf, 30, 60, 90, pinf]"
   ]
  },
  {
   "cell_type": "code",
   "execution_count": 36,
   "metadata": {},
   "outputs": [
    {
     "name": "stdout",
     "output_type": "stream",
     "text": [
      "============================================================\n",
      "             min  max    sum  total      rate       woe  goodattribute  \\\n",
      "Bucket                                                                   \n",
      "(-inf, 0.0]    0    0   7874  11849  0.664529 -0.163389       0.309622   \n",
      "(0.0, inf]     1    1  17557  24485  0.717051  0.082951       0.690378   \n",
      "\n",
      "             badattribute  \n",
      "Bucket                     \n",
      "(-inf, 0.0]      0.364579  \n",
      "(0.0, inf]       0.635421  \n"
     ]
    },
    {
     "name": "stderr",
     "output_type": "stream",
     "text": [
      "D:\\Anaconda\\lib\\site-packages\\ipykernel_launcher.py:18: FutureWarning: by argument to sort_index is deprecated, please use .sort_values(by=...)\n"
     ]
    }
   ],
   "source": [
    "#性别\n",
    "dfx1, ivx1,woex1 = self_bin(data.is_positive, data['gender'], cutx1)"
   ]
  },
  {
   "cell_type": "code",
   "execution_count": 37,
   "metadata": {},
   "outputs": [
    {
     "name": "stdout",
     "output_type": "stream",
     "text": [
      "============================================================\n",
      "              min  max    sum  total      rate       woe  goodattribute  \\\n",
      "Bucket                                                                    \n",
      "(-inf, 22.0]   19   22   2500   3094  0.808016  0.590236       0.098305   \n",
      "(22.0, 27.0]   23   27  10889  15847  0.687133 -0.060180       0.428178   \n",
      "(27.0, 34.0]   28   34   8671  12734  0.680933 -0.088868       0.340962   \n",
      "(34.0, inf]    35   56   3371   4659  0.723546  0.115188       0.132555   \n",
      "\n",
      "              badattribute  \n",
      "Bucket                      \n",
      "(-inf, 22.0]      0.054480  \n",
      "(22.0, 27.0]      0.454737  \n",
      "(27.0, 34.0]      0.372650  \n",
      "(34.0, inf]       0.118133  \n"
     ]
    },
    {
     "name": "stderr",
     "output_type": "stream",
     "text": [
      "D:\\Anaconda\\lib\\site-packages\\ipykernel_launcher.py:18: FutureWarning: by argument to sort_index is deprecated, please use .sort_values(by=...)\n"
     ]
    }
   ],
   "source": [
    "#年龄\n",
    "dfx2, ivx2,woex2 = self_bin(data.is_positive, data['age'], cutx2)"
   ]
  },
  {
   "cell_type": "code",
   "execution_count": 38,
   "metadata": {},
   "outputs": [
    {
     "name": "stdout",
     "output_type": "stream",
     "text": [
      "============================================================\n",
      "             min  max    sum  total      rate       woe  goodattribute  \\\n",
      "Bucket                                                                   \n",
      "(-inf, 0.0]  0.0  0.0   5161   7397  0.697715 -0.010489       0.202941   \n",
      "(0.0, inf]   1.0  1.0  20270  28937  0.700487  0.002688       0.797059   \n",
      "\n",
      "             badattribute  \n",
      "Bucket                     \n",
      "(-inf, 0.0]      0.205081  \n",
      "(0.0, inf]       0.794919  \n"
     ]
    },
    {
     "name": "stderr",
     "output_type": "stream",
     "text": [
      "D:\\Anaconda\\lib\\site-packages\\ipykernel_launcher.py:18: FutureWarning: by argument to sort_index is deprecated, please use .sort_values(by=...)\n"
     ]
    }
   ],
   "source": [
    "#身份证手机省份是否一致\n",
    "dfx3, ivx3,woex3 = self_bin(data.is_positive, data['is_id_mob_pro_same'], cutx3)"
   ]
  },
  {
   "cell_type": "code",
   "execution_count": 39,
   "metadata": {},
   "outputs": [
    {
     "name": "stdout",
     "output_type": "stream",
     "text": [
      "============================================================\n",
      "             min  max    sum  total      rate       woe  goodattribute  \\\n",
      "Bucket                                                                   \n",
      "(-inf, 0.0]  0.0  0.0  12572  18220  0.690011 -0.046760       0.494357   \n",
      "(0.0, inf]   1.0  1.0  12859  18114  0.709893  0.047933       0.505643   \n",
      "\n",
      "             badattribute  \n",
      "Bucket                     \n",
      "(-inf, 0.0]      0.518023  \n",
      "(0.0, inf]       0.481977  \n"
     ]
    },
    {
     "name": "stderr",
     "output_type": "stream",
     "text": [
      "D:\\Anaconda\\lib\\site-packages\\ipykernel_launcher.py:18: FutureWarning: by argument to sort_index is deprecated, please use .sort_values(by=...)\n"
     ]
    }
   ],
   "source": [
    "#身份证手机城市是否一致\n",
    "dfx4, ivx4,woex4 = self_bin(data.is_positive, data['is_id_mob_city_same'], cutx4)"
   ]
  },
  {
   "cell_type": "code",
   "execution_count": 40,
   "metadata": {},
   "outputs": [
    {
     "name": "stdout",
     "output_type": "stream",
     "text": [
      "============================================================\n",
      "             min  max    sum  total      rate       woe  goodattribute  \\\n",
      "Bucket                                                                   \n",
      "(-inf, 0.0]    0    0   4799   7143  0.671847 -0.130382       0.188707   \n",
      "(0.0, 1.0]     1    1  18336  25904  0.707844  0.038007       0.721010   \n",
      "(1.0, inf]     2    2   2296   3287  0.698509 -0.006722       0.090284   \n",
      "\n",
      "             badattribute  \n",
      "Bucket                     \n",
      "(-inf, 0.0]      0.214987  \n",
      "(0.0, 1.0]       0.694121  \n",
      "(1.0, inf]       0.090892  \n"
     ]
    },
    {
     "name": "stderr",
     "output_type": "stream",
     "text": [
      "D:\\Anaconda\\lib\\site-packages\\ipykernel_launcher.py:18: FutureWarning: by argument to sort_index is deprecated, please use .sort_values(by=...)\n"
     ]
    }
   ],
   "source": [
    "#手机运营商\n",
    "dfx5, ivx5,woex5 = self_bin(data.is_positive, data['phone_operator'], cutx5)"
   ]
  },
  {
   "cell_type": "code",
   "execution_count": 41,
   "metadata": {},
   "outputs": [
    {
     "name": "stdout",
     "output_type": "stream",
     "text": [
      "============================================================\n",
      "             min  max    sum  total      rate       woe  goodattribute  \\\n",
      "Bucket                                                                   \n",
      "(-inf, 0.0]    0    0    393    614  0.640065 -0.271284       0.015454   \n",
      "(0.0, inf]     1    1  25038  35720  0.700952  0.004904       0.984546   \n",
      "\n",
      "             badattribute  \n",
      "Bucket                     \n",
      "(-inf, 0.0]       0.02027  \n",
      "(0.0, inf]        0.97973  \n"
     ]
    },
    {
     "name": "stderr",
     "output_type": "stream",
     "text": [
      "D:\\Anaconda\\lib\\site-packages\\ipykernel_launcher.py:18: FutureWarning: by argument to sort_index is deprecated, please use .sort_values(by=...)\n"
     ]
    }
   ],
   "source": [
    "#手机号是否相同\n",
    "dfx6, ivx6,woex6 = self_bin(data.is_positive, data['is_same_mobile_num'], cutx6)"
   ]
  },
  {
   "cell_type": "code",
   "execution_count": 42,
   "metadata": {},
   "outputs": [
    {
     "name": "stdout",
     "output_type": "stream",
     "text": [
      "============================================================\n",
      "             min  max    sum  total      rate       woe  goodattribute  \\\n",
      "Bucket                                                                   \n",
      "(-inf, 0.0]    0    0   1507   2350  0.641277 -0.266022       0.059258   \n",
      "(0.0, inf]     1    1  23924  33984  0.703978  0.019384       0.940742   \n",
      "\n",
      "             badattribute  \n",
      "Bucket                     \n",
      "(-inf, 0.0]      0.077318  \n",
      "(0.0, inf]       0.922682  \n"
     ]
    },
    {
     "name": "stderr",
     "output_type": "stream",
     "text": [
      "D:\\Anaconda\\lib\\site-packages\\ipykernel_launcher.py:18: FutureWarning: by argument to sort_index is deprecated, please use .sort_values(by=...)\n"
     ]
    }
   ],
   "source": [
    "#收款账户是否相同\n",
    "dfx7, ivx7,woex7 = self_bin(data.is_positive, data['is_same_recv_acct_no'], cutx7)"
   ]
  },
  {
   "cell_type": "code",
   "execution_count": 43,
   "metadata": {},
   "outputs": [
    {
     "name": "stdout",
     "output_type": "stream",
     "text": [
      "============================================================\n",
      "             min  max    sum  total      rate       woe  goodattribute  \\\n",
      "Bucket                                                                   \n",
      "(-inf, 0.0]    0    0   5359   8630  0.620973 -0.353249       0.210727   \n",
      "(0.0, inf]     1    1  20072  27704  0.724516  0.120045       0.789273   \n",
      "\n",
      "             badattribute  \n",
      "Bucket                     \n",
      "(-inf, 0.0]      0.300009  \n",
      "(0.0, inf]       0.699991  \n"
     ]
    },
    {
     "name": "stderr",
     "output_type": "stream",
     "text": [
      "D:\\Anaconda\\lib\\site-packages\\ipykernel_launcher.py:18: FutureWarning: by argument to sort_index is deprecated, please use .sort_values(by=...)\n"
     ]
    }
   ],
   "source": [
    "#借款银行名称是否相同\n",
    "dfx8, ivx8,woex8 = self_bin(data.is_positive, data['is_same_loan_bank_name'], cutx8)"
   ]
  },
  {
   "cell_type": "code",
   "execution_count": 44,
   "metadata": {},
   "outputs": [
    {
     "name": "stdout",
     "output_type": "stream",
     "text": [
      "============================================================\n",
      "             min  max    sum  total      rate       woe  goodattribute  \\\n",
      "Bucket                                                                   \n",
      "(-inf, 0.0]    0    0    205    285  0.719298  0.094052       0.008061   \n",
      "(0.0, inf]     1    1  25226  36049  0.699770 -0.000729       0.991939   \n",
      "\n",
      "             badattribute  \n",
      "Bucket                     \n",
      "(-inf, 0.0]      0.007337  \n",
      "(0.0, inf]       0.992663  \n"
     ]
    },
    {
     "name": "stderr",
     "output_type": "stream",
     "text": [
      "D:\\Anaconda\\lib\\site-packages\\ipykernel_launcher.py:18: FutureWarning: by argument to sort_index is deprecated, please use .sort_values(by=...)\n"
     ]
    }
   ],
   "source": [
    "#借款银行省份是否相同\n",
    "dfx9, ivx9,woex9 = self_bin(data.is_positive, data['is_same_loan_bank_province'], cutx9)"
   ]
  },
  {
   "cell_type": "code",
   "execution_count": 45,
   "metadata": {},
   "outputs": [
    {
     "name": "stdout",
     "output_type": "stream",
     "text": [
      "============================================================\n",
      "             min  max    sum  total      rate       woe  goodattribute  \\\n",
      "Bucket                                                                   \n",
      "(-inf, 0.0]    0    0    483    679  0.711340  0.054971       0.018993   \n",
      "(0.0, inf]     1    1  24948  35655  0.699706 -0.001035       0.981007   \n",
      "\n",
      "             badattribute  \n",
      "Bucket                     \n",
      "(-inf, 0.0]      0.017977  \n",
      "(0.0, inf]       0.982023  \n"
     ]
    },
    {
     "name": "stderr",
     "output_type": "stream",
     "text": [
      "D:\\Anaconda\\lib\\site-packages\\ipykernel_launcher.py:18: FutureWarning: by argument to sort_index is deprecated, please use .sort_values(by=...)\n"
     ]
    }
   ],
   "source": [
    "#借款银行城市是否相同\n",
    "dfx10, ivx10,woex10 = self_bin(data.is_positive, data['is_same_loan_bank_city'], cutx10)"
   ]
  },
  {
   "cell_type": "code",
   "execution_count": 46,
   "metadata": {},
   "outputs": [
    {
     "name": "stdout",
     "output_type": "stream",
     "text": [
      "============================================================\n",
      "             min  max    sum  total      rate       woe  goodattribute  \\\n",
      "Bucket                                                                   \n",
      "(-inf, 1.0]    1    1  24901  35261  0.706191  0.030025       0.979159   \n",
      "(1.0, inf]     2    4    530   1073  0.493942 -0.871163       0.020841   \n",
      "\n",
      "             badattribute  \n",
      "Bucket                     \n",
      "(-inf, 1.0]      0.950197  \n",
      "(1.0, inf]       0.049803  \n"
     ]
    },
    {
     "name": "stderr",
     "output_type": "stream",
     "text": [
      "D:\\Anaconda\\lib\\site-packages\\ipykernel_launcher.py:18: FutureWarning: by argument to sort_index is deprecated, please use .sort_values(by=...)\n"
     ]
    }
   ],
   "source": [
    "#历史手机号数量\n",
    "dfx11, ivx11,woex11 = self_bin(data.is_positive, data['diff_mobile_num'], cutx11)"
   ]
  },
  {
   "cell_type": "code",
   "execution_count": 47,
   "metadata": {},
   "outputs": [
    {
     "name": "stdout",
     "output_type": "stream",
     "text": [
      "============================================================\n",
      "             min  max    sum  total      rate       woe  goodattribute  \\\n",
      "Bucket                                                                   \n",
      "(-inf, 1.0]    1    1  22634  30986  0.730459  0.150021       0.890016   \n",
      "(1.0, inf]     2    4   2797   5348  0.522999 -0.754869       0.109984   \n",
      "\n",
      "             badattribute  \n",
      "Bucket                     \n",
      "(-inf, 1.0]      0.766028  \n",
      "(1.0, inf]       0.233972  \n"
     ]
    },
    {
     "name": "stderr",
     "output_type": "stream",
     "text": [
      "D:\\Anaconda\\lib\\site-packages\\ipykernel_launcher.py:18: FutureWarning: by argument to sort_index is deprecated, please use .sort_values(by=...)\n"
     ]
    }
   ],
   "source": [
    "#历史还款银行卡数量\n",
    "dfx12, ivx12,woex12 = self_bin(data.is_positive, data['diff_bank_account_num'], cutx12)"
   ]
  },
  {
   "cell_type": "code",
   "execution_count": 48,
   "metadata": {},
   "outputs": [
    {
     "name": "stdout",
     "output_type": "stream",
     "text": [
      "============================================================\n",
      "             min  max    sum  total      rate       woe  goodattribute  \\\n",
      "Bucket                                                                   \n",
      "(-inf, 1.0]    1    1  16244  19570  0.830046  0.739022       0.638748   \n",
      "(1.0, 2.0]     2    2   8137  14346  0.567196 -0.576509       0.319964   \n",
      "(2.0, inf]     3    5   1050   2418  0.434243 -1.111491       0.041288   \n",
      "\n",
      "             badattribute  \n",
      "Bucket                     \n",
      "(-inf, 1.0]      0.305054  \n",
      "(1.0, 2.0]       0.569476  \n",
      "(2.0, inf]       0.125470  \n"
     ]
    },
    {
     "name": "stderr",
     "output_type": "stream",
     "text": [
      "D:\\Anaconda\\lib\\site-packages\\ipykernel_launcher.py:18: FutureWarning: by argument to sort_index is deprecated, please use .sort_values(by=...)\n"
     ]
    }
   ],
   "source": [
    "#历史还款银行地址数量\n",
    "dfx13, ivx13,woex13 = self_bin(data.is_positive, data['diff_bank_id_num'], cutx13)"
   ]
  },
  {
   "cell_type": "code",
   "execution_count": 49,
   "metadata": {},
   "outputs": [
    {
     "name": "stdout",
     "output_type": "stream",
     "text": [
      "============================================================\n",
      "             min  max    sum  total      rate       woe  goodattribute  \\\n",
      "Bucket                                                                   \n",
      "(-inf, 1.0]    1    1  25095  35694  0.703059  0.014978       0.986788   \n",
      "(1.0, inf]     2    3    336    640  0.525000 -0.746847       0.013212   \n",
      "\n",
      "             badattribute  \n",
      "Bucket                     \n",
      "(-inf, 1.0]      0.972118  \n",
      "(1.0, inf]       0.027882  \n"
     ]
    },
    {
     "name": "stderr",
     "output_type": "stream",
     "text": [
      "D:\\Anaconda\\lib\\site-packages\\ipykernel_launcher.py:18: FutureWarning: by argument to sort_index is deprecated, please use .sort_values(by=...)\n"
     ]
    }
   ],
   "source": [
    "#历史还款银行卡省份数\n",
    "dfx14, ivx14,woex14 = self_bin(data.is_positive, data['diff_bank_province_num'], cutx14)"
   ]
  },
  {
   "cell_type": "code",
   "execution_count": 50,
   "metadata": {},
   "outputs": [
    {
     "name": "stdout",
     "output_type": "stream",
     "text": [
      "============================================================\n",
      "             min  max    sum  total      rate       woe  goodattribute  \\\n",
      "Bucket                                                                   \n",
      "(-inf, 1.0]    1    1  24603  34749  0.708020  0.038858       0.967441   \n",
      "(1.0, inf]     2    3    828   1585  0.522397 -0.757281       0.032559   \n",
      "\n",
      "             badattribute  \n",
      "Bucket                     \n",
      "(-inf, 1.0]       0.93057  \n",
      "(1.0, inf]        0.06943  \n"
     ]
    },
    {
     "name": "stderr",
     "output_type": "stream",
     "text": [
      "D:\\Anaconda\\lib\\site-packages\\ipykernel_launcher.py:18: FutureWarning: by argument to sort_index is deprecated, please use .sort_values(by=...)\n"
     ]
    }
   ],
   "source": [
    "#历史还款银行卡城市数\n",
    "dfx15, ivx15,woex15 = self_bin(data.is_positive, data['diff_bank_city_num'], cutx15)"
   ]
  },
  {
   "cell_type": "code",
   "execution_count": 51,
   "metadata": {},
   "outputs": [
    {
     "name": "stdout",
     "output_type": "stream",
     "text": [
      "============================================================\n",
      "             min  max    sum  total      rate       woe  goodattribute  \\\n",
      "Bucket                                                                   \n",
      "(-inf, 2.0]    1    2  13865  15796  0.877754  1.124399       0.545201   \n",
      "(2.0, 5.0]     3    5   7787  12170  0.639852 -0.272209       0.306201   \n",
      "(5.0, 9.0]     6    9   2817   5857  0.480963 -0.923116       0.110770   \n",
      "(9.0, inf]    10   44    962   2511  0.383114 -1.323281       0.037828   \n",
      "\n",
      "             badattribute  \n",
      "Bucket                     \n",
      "(-inf, 2.0]      0.177107  \n",
      "(2.0, 5.0]       0.401999  \n",
      "(5.0, 9.0]       0.278822  \n",
      "(9.0, inf]       0.142071  \n"
     ]
    },
    {
     "name": "stderr",
     "output_type": "stream",
     "text": [
      "D:\\Anaconda\\lib\\site-packages\\ipykernel_launcher.py:18: FutureWarning: by argument to sort_index is deprecated, please use .sort_values(by=...)\n"
     ]
    }
   ],
   "source": [
    "#历史合同数\n",
    "dfx16, ivx16,woex16 = self_bin(data.is_positive, data['sum_loan_con_num'], cutx16)"
   ]
  },
  {
   "cell_type": "code",
   "execution_count": 52,
   "metadata": {},
   "outputs": [
    {
     "name": "stdout",
     "output_type": "stream",
     "text": [
      "============================================================\n",
      "             min  max    sum  total      rate       woe  goodattribute  \\\n",
      "Bucket                                                                   \n",
      "(-inf, 1.0]    0    1  15241  20257  0.752382  0.264425       0.599308   \n",
      "(1.0, 4.0]     2    4   8622  12910  0.667854 -0.148434       0.339035   \n",
      "(4.0, inf]     5   29   1568   3167  0.495106 -0.866508       0.061657   \n",
      "\n",
      "             badattribute  \n",
      "Bucket                     \n",
      "(-inf, 1.0]      0.460057  \n",
      "(1.0, 4.0]       0.393286  \n",
      "(4.0, inf]       0.146657  \n"
     ]
    },
    {
     "name": "stderr",
     "output_type": "stream",
     "text": [
      "D:\\Anaconda\\lib\\site-packages\\ipykernel_launcher.py:18: FutureWarning: by argument to sort_index is deprecated, please use .sort_values(by=...)\n"
     ]
    }
   ],
   "source": [
    "#近三个月合同数\n",
    "dfx17, ivx17,woex17 = self_bin(data.is_positive, data['sum_loan_con_num_3'], cutx17)"
   ]
  },
  {
   "cell_type": "code",
   "execution_count": 53,
   "metadata": {},
   "outputs": [
    {
     "name": "stdout",
     "output_type": "stream",
     "text": [
      "============================================================\n",
      "             min  max    sum  total      rate       woe  goodattribute  \\\n",
      "Bucket                                                                   \n",
      "(-inf, 1.0]    0    1  11770  13794  0.853270  0.913547       0.462821   \n",
      "(1.0, 4.0]     2    4  10310  15336  0.672274 -0.128441       0.405411   \n",
      "(4.0, 8.0]     5    8   2699   5533  0.487800 -0.895739       0.106130   \n",
      "(8.0, inf]     9   41    652   1671  0.390186 -1.293463       0.025638   \n",
      "\n",
      "             badattribute  \n",
      "Bucket                     \n",
      "(-inf, 1.0]      0.185637  \n",
      "(1.0, 4.0]       0.460974  \n",
      "(4.0, 8.0]       0.259928  \n",
      "(8.0, inf]       0.093461  \n"
     ]
    },
    {
     "name": "stderr",
     "output_type": "stream",
     "text": [
      "D:\\Anaconda\\lib\\site-packages\\ipykernel_launcher.py:18: FutureWarning: by argument to sort_index is deprecated, please use .sort_values(by=...)\n"
     ]
    }
   ],
   "source": [
    "#近六个月合同数\n",
    "dfx18, ivx18,woex18 = self_bin(data.is_positive, data['sum_loan_con_num_6'], cutx18)"
   ]
  },
  {
   "cell_type": "code",
   "execution_count": 54,
   "metadata": {},
   "outputs": [
    {
     "name": "stdout",
     "output_type": "stream",
     "text": [
      "============================================================\n",
      "                   min    max    sum  total      rate       woe  \\\n",
      "Bucket                                                            \n",
      "(-inf, 3000.0]       0   3000  18735  25686  0.729386  0.144577   \n",
      "(3000.0, 5000.0]  3006   5000   4485   6722  0.667212 -0.151328   \n",
      "(5000.0, inf]     5006  33200   2211   3926  0.563169 -0.592899   \n",
      "\n",
      "                  goodattribute  badattribute  \n",
      "Bucket                                         \n",
      "(-inf, 3000.0]         0.736699      0.637531  \n",
      "(3000.0, 5000.0]       0.176360      0.205173  \n",
      "(5000.0, inf]          0.086941      0.157296  \n"
     ]
    },
    {
     "name": "stderr",
     "output_type": "stream",
     "text": [
      "D:\\Anaconda\\lib\\site-packages\\ipykernel_launcher.py:18: FutureWarning: by argument to sort_index is deprecated, please use .sort_values(by=...)\n"
     ]
    }
   ],
   "source": [
    "#近三个月合同金额\n",
    "dfx21, ivx21,woex21 = self_bin(data.is_positive, data['sum_loan_con_amt_3'], cutx21)"
   ]
  },
  {
   "cell_type": "code",
   "execution_count": 55,
   "metadata": {},
   "outputs": [
    {
     "name": "stdout",
     "output_type": "stream",
     "text": [
      "============================================================\n",
      "                   min    max    sum  total      rate       woe  \\\n",
      "Bucket                                                            \n",
      "(-inf, 3000.0]       0   3000  18735  25686  0.729386  0.144577   \n",
      "(3000.0, 5000.0]  3006   5000   4485   6722  0.667212 -0.151328   \n",
      "(5000.0, inf]     5006  33200   2211   3926  0.563169 -0.592899   \n",
      "\n",
      "                  goodattribute  badattribute  \n",
      "Bucket                                         \n",
      "(-inf, 3000.0]         0.736699      0.637531  \n",
      "(3000.0, 5000.0]       0.176360      0.205173  \n",
      "(5000.0, inf]          0.086941      0.157296  \n"
     ]
    },
    {
     "name": "stderr",
     "output_type": "stream",
     "text": [
      "D:\\Anaconda\\lib\\site-packages\\ipykernel_launcher.py:18: FutureWarning: by argument to sort_index is deprecated, please use .sort_values(by=...)\n"
     ]
    }
   ],
   "source": [
    "#近三个月到手金额\n",
    "dfx23, ivx23,woex23 = self_bin(data.is_positive, data['sum_issue_amt_3'], cutx23)"
   ]
  },
  {
   "cell_type": "code",
   "execution_count": 56,
   "metadata": {},
   "outputs": [
    {
     "name": "stdout",
     "output_type": "stream",
     "text": [
      "============================================================\n",
      "                      min       max    sum  total      rate       woe  \\\n",
      "Bucket                                                                  \n",
      "(-inf, 1000.0]     500.00   1000.00  14780  23243  0.635890 -0.289360   \n",
      "(1000.0, 2000.0]  1000.05   2000.00   6296   8027  0.784353  0.444284   \n",
      "(2000.0, inf]     2002.84  11468.21   4355   5064  0.859992  0.968293   \n",
      "\n",
      "                  goodattribute  badattribute  \n",
      "Bucket                                         \n",
      "(-inf, 1000.0]         0.581180      0.776208  \n",
      "(1000.0, 2000.0]       0.247572      0.158764  \n",
      "(2000.0, inf]          0.171248      0.065028  \n"
     ]
    },
    {
     "name": "stderr",
     "output_type": "stream",
     "text": [
      "D:\\Anaconda\\lib\\site-packages\\ipykernel_launcher.py:18: FutureWarning: by argument to sort_index is deprecated, please use .sort_values(by=...)\n"
     ]
    }
   ],
   "source": [
    "#历史最小合同金额\n",
    "dfx26, ivx26,woex26 = self_bin(data.is_positive, data['min_loan_con_amt'], cutx26)"
   ]
  },
  {
   "cell_type": "code",
   "execution_count": 57,
   "metadata": {},
   "outputs": [
    {
     "name": "stdout",
     "output_type": "stream",
     "text": [
      "============================================================\n",
      "                   min    max    sum  total      rate       woe  \\\n",
      "Bucket                                                            \n",
      "(-inf, 2000.0]       0   2000  19867  28434  0.698706 -0.005788   \n",
      "(2000.0, 3500.0]  2005   3500   3744   5299  0.706548  0.031748   \n",
      "(3500.0, inf]     3501  10000   1820   2601  0.699731 -0.000914   \n",
      "\n",
      "                  goodattribute  badattribute  \n",
      "Bucket                                         \n",
      "(-inf, 2000.0]         0.781212      0.785747  \n",
      "(2000.0, 3500.0]       0.147222      0.142621  \n",
      "(3500.0, inf]          0.071566      0.071632  \n"
     ]
    },
    {
     "name": "stderr",
     "output_type": "stream",
     "text": [
      "D:\\Anaconda\\lib\\site-packages\\ipykernel_launcher.py:18: FutureWarning: by argument to sort_index is deprecated, please use .sort_values(by=...)\n"
     ]
    }
   ],
   "source": [
    "#近三个月最大合同金额\n",
    "dfx27, ivx27,woex27 = self_bin(data.is_positive, data['max_loan_con_amt_3'], cutx27)"
   ]
  },
  {
   "cell_type": "code",
   "execution_count": 58,
   "metadata": {},
   "outputs": [
    {
     "name": "stdout",
     "output_type": "stream",
     "text": [
      "============================================================\n",
      "                   min    max    sum  total      rate       woe  \\\n",
      "Bucket                                                            \n",
      "(-inf, 2000.0]       0   2000  19867  28434  0.698706 -0.005788   \n",
      "(2000.0, 3500.0]  2005   3500   3744   5299  0.706548  0.031748   \n",
      "(3500.0, inf]     3501  10000   1820   2601  0.699731 -0.000914   \n",
      "\n",
      "                  goodattribute  badattribute  \n",
      "Bucket                                         \n",
      "(-inf, 2000.0]         0.781212      0.785747  \n",
      "(2000.0, 3500.0]       0.147222      0.142621  \n",
      "(3500.0, inf]          0.071566      0.071632  \n"
     ]
    },
    {
     "name": "stderr",
     "output_type": "stream",
     "text": [
      "D:\\Anaconda\\lib\\site-packages\\ipykernel_launcher.py:18: FutureWarning: by argument to sort_index is deprecated, please use .sort_values(by=...)\n"
     ]
    }
   ],
   "source": [
    "#近三个月最大到手合同金额\n",
    "dfx28, ivx28,woex28 = self_bin(data.is_positive, data['max_issue_amt_3'], cutx28)"
   ]
  },
  {
   "cell_type": "code",
   "execution_count": 59,
   "metadata": {},
   "outputs": [
    {
     "name": "stdout",
     "output_type": "stream",
     "text": [
      "============================================================\n",
      "              min  max    sum  total      rate       woe  goodattribute  \\\n",
      "Bucket                                                                    \n",
      "(-inf, 30.0]    0   30  11007  15194  0.724431  0.119616       0.432818   \n",
      "(30.0, 60.0]   31   60   5767   8018  0.719257  0.093847       0.226770   \n",
      "(60.0, 90.0]   61   90   2910   4692  0.620205 -0.356514       0.114427   \n",
      "(90.0, inf]    91  545   5747   8430  0.681732 -0.085189       0.225984   \n",
      "\n",
      "              badattribute  \n",
      "Bucket                      \n",
      "(-inf, 30.0]      0.384023  \n",
      "(30.0, 60.0]      0.206457  \n",
      "(60.0, 90.0]      0.163441  \n",
      "(90.0, inf]       0.246079  \n"
     ]
    },
    {
     "name": "stderr",
     "output_type": "stream",
     "text": [
      "D:\\Anaconda\\lib\\site-packages\\ipykernel_launcher.py:18: FutureWarning: by argument to sort_index is deprecated, please use .sort_values(by=...)\n"
     ]
    }
   ],
   "source": [
    "#最近一次申请距当前申请日天数\n",
    "dfx31, ivx31,woex31 = self_bin(data.is_positive, data['recent_apply_days'], cutx31)"
   ]
  },
  {
   "cell_type": "markdown",
   "metadata": {},
   "source": [
    "# 相关性分析和IV筛选"
   ]
  },
  {
   "cell_type": "code",
   "execution_count": 60,
   "metadata": {},
   "outputs": [
    {
     "data": {
      "text/plain": [
       "[Text(0,0.5,'is_positive'),\n",
       " Text(0,1.5,'gender'),\n",
       " Text(0,2.5,'age'),\n",
       " Text(0,3.5,'is_id_mob_pro_same'),\n",
       " Text(0,4.5,'is_id_mob_city_same'),\n",
       " Text(0,5.5,'phone_operator'),\n",
       " Text(0,6.5,'is_same_mobile_num'),\n",
       " Text(0,7.5,'is_same_recv_acct_no'),\n",
       " Text(0,8.5,'is_same_loan_bank_name'),\n",
       " Text(0,9.5,'is_same_loan_bank_province'),\n",
       " Text(0,10.5,'is_same_loan_bank_city'),\n",
       " Text(0,11.5,'diff_mobile_num'),\n",
       " Text(0,12.5,'diff_bank_account_num'),\n",
       " Text(0,13.5,'diff_bank_id_num'),\n",
       " Text(0,14.5,'diff_bank_province_num'),\n",
       " Text(0,15.5,'diff_bank_city_num'),\n",
       " Text(0,16.5,'sum_loan_con_num'),\n",
       " Text(0,17.5,'sum_loan_con_num_3'),\n",
       " Text(0,18.5,'sum_loan_con_num_6'),\n",
       " Text(0,19.5,'sum_loan_con_amt'),\n",
       " Text(0,20.5,'sum_issue_amt'),\n",
       " Text(0,21.5,'sum_loan_con_amt_3'),\n",
       " Text(0,22.5,'sum_loan_con_amt_6'),\n",
       " Text(0,23.5,'sum_issue_amt_3'),\n",
       " Text(0,24.5,'sum_issue_amt_6'),\n",
       " Text(0,25.5,'max_loan_con_amt'),\n",
       " Text(0,26.5,'min_loan_con_amt'),\n",
       " Text(0,27.5,'max_loan_con_amt_3'),\n",
       " Text(0,28.5,'max_issue_amt_3'),\n",
       " Text(0,29.5,'max_loan_con_amt_6'),\n",
       " Text(0,30.5,'max_issue_amt_6'),\n",
       " Text(0,31.5,'recent_apply_days')]"
      ]
     },
     "execution_count": 60,
     "metadata": {},
     "output_type": "execute_result"
    },
    {
     "data": {
      "image/png": "[encoded data removed]",
      "text/plain": [
       "<Figure size 1440x1080 with 2 Axes>"
      ]
     },
     "metadata": {},
     "output_type": "display_data"
    }
   ],
   "source": [
    "import seaborn as sns\n",
    "corr = data.corr()#计算各变量的相关性系数\n",
    "xticks = ['x0','x1', 'x2', 'x3', 'x4', 'x5', 'x6', 'x7', 'x8', 'x9', 'x10', 'x11', 'x12', 'x13', 'x14', 'x15', 'x16', 'x17', 'x18', 'x19', 'x20', 'x21', 'x22', 'x23', 'x24', 'x25', 'x26', 'x27', 'x28', 'x29', 'x30', 'x31']#x轴标签\n",
    "yticks = list(corr.index)#y轴标签\n",
    "fig = plt.figure(figsize=(20,15))\n",
    "ax1 = fig.add_subplot(1, 1, 1)\n",
    "sns.heatmap(corr, annot=True, cmap='rainbow', ax=ax1, annot_kws={'size': 9, 'weight': 'bold', 'color': 'blue'})#绘制相关性系数热力图\n",
    "ax1.set_xticklabels(xticks, rotation=0, fontsize=10)\n",
    "ax1.set_yticklabels(yticks, rotation=0, fontsize=10)"
   ]
  },
  {
   "cell_type": "code",
   "execution_count": 61,
   "metadata": {},
   "outputs": [
    {
     "data": {
      "image/png": "[encoded data removed]",
      "text/plain": [
       "<Figure size 1440x1080 with 1 Axes>"
      ]
     },
     "metadata": {},
     "output_type": "display_data"
    }
   ],
   "source": [
    "#由于运营商字段的iv出现了正无穷导致无法计算，这里先去掉了这个字段\n",
    "ivlist=[ivx1, ivx2, ivx3, ivx4, ivx5, ivx6, ivx7, ivx8, ivx9, ivx10, ivx11, ivx12, ivx13, ivx14, ivx15, ivx16, ivx17, ivx18, ivx19, ivx20, ivx21, ivx22, ivx23, ivx24, ivx25, ivx26, ivx27, ivx28, ivx29, ivx30, ivx31]\n",
    "index=['x1', 'x2', 'x3', 'x4', 'x5', 'x6', 'x7', 'x8', 'x9', 'x10', 'x11', 'x12', 'x13', 'x14', 'x15', 'x16', 'x17', 'x18', 'x19', 'x20', 'x21', 'x22', 'x23', 'x24', 'x25', 'x26', 'x27', 'x28', 'x29', 'x30', 'x31']\n",
    "fig1 = plt.figure(figsize=(20,15))\n",
    "ax1 = fig1.add_subplot(1, 1, 1)\n",
    "x = np.arange(len(index))+1\n",
    "ax1.bar(x, ivlist, width=0.4)\n",
    "ax1.set_xticks(x)\n",
    "ax1.set_xticklabels(index, rotation=0, fontsize=12)\n",
    "ax1.set_ylabel('IV(Information Value)', fontsize=14)\n",
    "for a, b in zip(x, ivlist):\n",
    "    plt.text(a, b + 0.01, '%.4f' % b, ha='center', va='bottom', fontsize=10)"
   ]
  },
  {
   "cell_type": "code",
   "execution_count": 62,
   "metadata": {},
   "outputs": [],
   "source": [
    "#一般相关系数大于0.6可以进行变量剔除\n",
    "#一般选取IV大于0.02的特征变量进行后续训练"
   ]
  },
  {
   "cell_type": "markdown",
   "metadata": {},
   "source": [
    "# WOE转换、特征选取以及建模"
   ]
  },
  {
   "cell_type": "code",
   "execution_count": 63,
   "metadata": {},
   "outputs": [],
   "source": [
    "# WOE转换\n",
    "def replace_woe(series,cut,woe):\n",
    "    list=[]\n",
    "    i=0\n",
    "    while i<len(series):\n",
    "        value=series[i]\n",
    "        j=len(cut)-2\n",
    "        m=len(cut)-2\n",
    "        while j>=0:\n",
    "            if value>cut[j]:\n",
    "                j=-1\n",
    "            else:\n",
    "                j -=1\n",
    "                m -= 1\n",
    "        list.append(woe[m])\n",
    "        i += 1\n",
    "    return list\n",
    "#简书中的条件是if value>=cut[j]:但为了实现左开右闭，应该改为>"
   ]
  },
  {
   "cell_type": "code",
   "execution_count": 64,
   "metadata": {},
   "outputs": [],
   "source": [
    "from pandas import Series,DataFrame"
   ]
  },
  {
   "cell_type": "code",
   "execution_count": 65,
   "metadata": {},
   "outputs": [],
   "source": [
    "data['gender'] = Series(replace_woe(data['gender'], cutx1, woex1))\n",
    "data['age'] = Series(replace_woe(data['age'], cutx2, woex2))\n",
    "data['is_id_mob_pro_same'] = Series(replace_woe(data['is_id_mob_pro_same'], cutx3, woex3))\n",
    "data['is_id_mob_city_same'] = Series(replace_woe(data['is_id_mob_city_same'], cutx4, woex4))\n",
    "data['phone_operator'] = Series(replace_woe(data['phone_operator'], cutx5, woex5))\n",
    "data['is_same_mobile_num'] = Series(replace_woe(data['is_same_mobile_num'], cutx6, woex6))\n",
    "data['is_same_recv_acct_no'] = Series(replace_woe(data['is_same_recv_acct_no'], cutx7, woex7))\n",
    "data['is_same_loan_bank_name'] = Series(replace_woe(data['is_same_loan_bank_name'], cutx8, woex8))\n",
    "data['is_same_loan_bank_province'] = Series(replace_woe(data['is_same_loan_bank_province'], cutx9, woex9))\n",
    "data['is_same_loan_bank_city'] = Series(replace_woe(data['is_same_loan_bank_city'], cutx10, woex10))\n",
    "data['diff_mobile_num'] = Series(replace_woe(data['diff_mobile_num'], cutx11, woex11))\n",
    "data['diff_bank_account_num'] = Series(replace_woe(data['diff_bank_account_num'], cutx12, woex12))\n",
    "data['diff_bank_id_num'] = Series(replace_woe(data['diff_bank_id_num'], cutx13, woex13))\n",
    "data['diff_bank_province_num'] = Series(replace_woe(data['diff_bank_province_num'], cutx14, woex14))\n",
    "data['diff_bank_city_num'] = Series(replace_woe(data['diff_bank_city_num'], cutx15, woex15))\n",
    "data['sum_loan_con_num'] = Series(replace_woe(data['sum_loan_con_num'], cutx16, woex16))\n",
    "data['sum_loan_con_num_3'] = Series(replace_woe(data['sum_loan_con_num_3'], cutx17, woex17))\n",
    "data['sum_loan_con_num_6'] = Series(replace_woe(data['sum_loan_con_num_6'], cutx18, woex18))\n",
    "data['sum_loan_con_amt'] = Series(replace_woe(data['sum_loan_con_amt'], cutx19, woex19))\n",
    "data['sum_issue_amt'] = Series(replace_woe(data['sum_issue_amt'], cutx20, woex20))\n",
    "data['sum_loan_con_amt_3'] = Series(replace_woe(data['sum_loan_con_amt_3'], cutx21, woex21))\n",
    "data['sum_loan_con_amt_6'] = Series(replace_woe(data['sum_loan_con_amt_6'], cutx22, woex22))\n",
    "data['sum_issue_amt_3'] = Series(replace_woe(data['sum_issue_amt_3'], cutx23, woex23))\n",
    "data['sum_issue_amt_6'] = Series(replace_woe(data['sum_issue_amt_6'], cutx24, woex24))\n",
    "data['max_loan_con_amt'] = Series(replace_woe(data['max_loan_con_amt'], cutx25, woex25))\n",
    "data['min_loan_con_amt'] = Series(replace_woe(data['min_loan_con_amt'], cutx26, woex26))\n",
    "data['max_loan_con_amt_3'] = Series(replace_woe(data['max_loan_con_amt_3'], cutx27, woex27))\n",
    "data['max_issue_amt_3'] = Series(replace_woe(data['max_issue_amt_3'], cutx28, woex28))\n",
    "data['max_loan_con_amt_6'] = Series(replace_woe(data['max_loan_con_amt_6'], cutx29, woex29))\n",
    "data['max_issue_amt_6'] = Series(replace_woe(data['max_issue_amt_6'], cutx30, woex30))\n",
    "data['recent_apply_days'] = Series(replace_woe(data['recent_apply_days'], cutx31, woex31))\n",
    "data.to_csv('E:\\工作资料\\风控\\测试工程\\WoeData.csv',index=False)"
   ]
  },
  {
   "cell_type": "code",
   "execution_count": 66,
   "metadata": {},
   "outputs": [],
   "source": [
    "#Logisic模型建立\n",
    "import statsmodels.api as sm"
   ]
  },
  {
   "cell_type": "code",
   "execution_count": 67,
   "metadata": {},
   "outputs": [
    {
     "name": "stdout",
     "output_type": "stream",
     "text": [
      "Optimization terminated successfully.\n",
      "         Current function value: 0.508908\n",
      "         Iterations 6\n",
      "                           Logit Regression Results                           \n",
      "==============================================================================\n",
      "Dep. Variable:            is_positive   No. Observations:                36334\n",
      "Model:                          Logit   Df Residuals:                    36324\n",
      "Method:                           MLE   Df Model:                            9\n",
      "Date:                Thu, 30 May 2019   Pseudo R-squ.:                  0.1670\n",
      "Time:                        16:31:38   Log-Likelihood:                -18491.\n",
      "converged:                       True   LL-Null:                       -22198.\n",
      "                                        LLR p-value:                     0.000\n",
      "==========================================================================================\n",
      "                             coef    std err          z      P>|z|      [0.025      0.975]\n",
      "------------------------------------------------------------------------------------------\n",
      "const                      0.8533      0.013     65.362      0.000       0.828       0.879\n",
      "age                        0.6847      0.077      8.896      0.000       0.534       0.836\n",
      "is_same_loan_bank_name     1.0139      0.066     15.332      0.000       0.884       1.144\n",
      "diff_mobile_num            0.3040      0.075      4.028      0.000       0.156       0.452\n",
      "diff_bank_id_num           0.3720      0.022     17.224      0.000       0.330       0.414\n",
      "diff_bank_city_num         0.1301      0.072      1.811      0.070      -0.011       0.271\n",
      "sum_loan_con_num           0.9494      0.019     50.323      0.000       0.912       0.986\n",
      "max_loan_con_amt           0.6785      0.047     14.410      0.000       0.586       0.771\n",
      "max_loan_con_amt_6        -0.5303      0.082     -6.479      0.000      -0.691      -0.370\n",
      "recent_apply_days          1.9999      0.084     23.917      0.000       1.836       2.164\n",
      "==========================================================================================\n"
     ]
    }
   ],
   "source": [
    "#导入数据\n",
    "f_tmp=open(\"E:\\工作资料\\风控\\测试工程\\WoeData.csv\")\n",
    "data = pd.read_csv(f_tmp)\n",
    "#应变量\n",
    "Y=data['is_positive']\n",
    "#自变量，剔除对因变量影响不明显的变量\n",
    "X=data[['age','is_same_loan_bank_name','diff_mobile_num','diff_bank_id_num','diff_bank_city_num','sum_loan_con_num','max_loan_con_amt','max_loan_con_amt_6','recent_apply_days']]\n",
    "X1=sm.add_constant(X)\n",
    "logit=sm.Logit(Y,X1)\n",
    "result=logit.fit()\n",
    "print(result.summary())"
   ]
  },
  {
   "cell_type": "code",
   "execution_count": 68,
   "metadata": {},
   "outputs": [],
   "source": [
    "#验证集替换成WOE"
   ]
  },
  {
   "cell_type": "code",
   "execution_count": 69,
   "metadata": {},
   "outputs": [],
   "source": [
    "f_tmp=open(\"E:\\工作资料\\风控\\测试工程\\TestData.csv\")\n",
    "test= pd.read_csv(f_tmp)"
   ]
  },
  {
   "cell_type": "code",
   "execution_count": 70,
   "metadata": {},
   "outputs": [],
   "source": [
    "test['age'] = Series(replace_woe(test['age'], cutx2, woex2))\n",
    "test['is_same_loan_bank_name'] = Series(replace_woe(test['is_same_loan_bank_name'], cutx8, woex8))\n",
    "test['diff_mobile_num'] = Series(replace_woe(test['diff_mobile_num'], cutx11, woex11))\n",
    "test['diff_bank_id_num'] = Series(replace_woe(test['diff_bank_id_num'], cutx13, woex13))\n",
    "test['diff_bank_city_num'] = Series(replace_woe(test['diff_bank_city_num'], cutx15, woex15))\n",
    "test['sum_loan_con_num'] = Series(replace_woe(test['sum_loan_con_num'], cutx16, woex16))\n",
    "test['max_loan_con_amt'] = Series(replace_woe(test['max_loan_con_amt'], cutx25, woex25))\n",
    "test['max_loan_con_amt_6'] = Series(replace_woe(test['max_loan_con_amt_6'], cutx29, woex29))\n",
    "test['recent_apply_days'] = Series(replace_woe(test['recent_apply_days'], cutx31, woex31))\n",
    "test.to_csv('E:\\工作资料\\风控\\测试工程\\TestWoeData.csv', index=False)"
   ]
  },
  {
   "cell_type": "code",
   "execution_count": 71,
   "metadata": {},
   "outputs": [],
   "source": [
    "#通过ROC曲线和AUC来评估模型的拟合能力\n",
    "from sklearn.metrics import roc_curve, auc"
   ]
  },
  {
   "cell_type": "code",
   "execution_count": 72,
   "metadata": {},
   "outputs": [
    {
     "data": {
      "text/plain": [
       "Text(0.5,0,'假正率')"
      ]
     },
     "execution_count": 72,
     "metadata": {},
     "output_type": "execute_result"
    },
    {
     "data": {
      "image/png": "[encoded data removed]",
      "text/plain": [
       "<Figure size 432x288 with 1 Axes>"
      ]
     },
     "metadata": {},
     "output_type": "display_data"
    }
   ],
   "source": [
    "#应变量\n",
    "Y_test = test['is_positive']\n",
    "#自变量，剔除对因变量影响不明显的变量，与模型变量对应\n",
    "X_test = test[['age','is_same_loan_bank_name','diff_mobile_num','diff_bank_id_num','diff_bank_city_num','sum_loan_con_num','max_loan_con_amt','max_loan_con_amt_6','recent_apply_days']]\n",
    "X3 = sm.add_constant(X_test)\n",
    "resu = result.predict(X3)#进行预测\n",
    "fpr, tpr, threshold = roc_curve(Y_test, resu)\n",
    "rocauc = auc(fpr, tpr)#计算AUC\n",
    "plt.plot(fpr, tpr, 'b', label='AUC = %0.2f' % rocauc)#生成ROC曲线\n",
    "plt.legend(loc='lower right')\n",
    "plt.plot([0, 1], [0, 1], 'r--')\n",
    "plt.xlim([0, 1])\n",
    "plt.ylim([0, 1])\n",
    "plt.ylabel('真正率')\n",
    "plt.xlabel('假正率')"
   ]
  },
  {
   "cell_type": "code",
   "execution_count": 86,
   "metadata": {},
   "outputs": [
    {
     "data": {
      "image/png": "[encoded data removed]",
      "text/plain": [
       "<Figure size 432x288 with 1 Axes>"
      ]
     },
     "metadata": {},
     "output_type": "display_data"
    },
    {
     "data": {
      "text/plain": [
       "<Figure size 1440x1440 with 0 Axes>"
      ]
     },
     "metadata": {},
     "output_type": "display_data"
    }
   ],
   "source": [
    "#画出K-S曲线\n",
    "fig, ax = plt.subplots()\n",
    "ax.plot(1 - threshold, tpr, label='tpr') # ks曲线要按照预测概率降序排列，所以需要1-threshold镜像\n",
    "ax.plot(1 - threshold, fpr, label='fpr')\n",
    "ax.plot(1 - threshold, tpr-fpr,label='KS')\n",
    "plt.xlabel('score')\n",
    "plt.title('KS Curve')\n",
    "plt.ylim([0.0, 1.0])\n",
    "plt.figure(figsize=(20,20))\n",
    "legend = ax.legend(loc='upper left')\n",
    "plt.show()"
   ]
  },
  {
   "cell_type": "code",
   "execution_count": 87,
   "metadata": {},
   "outputs": [
    {
     "data": {
      "text/plain": [
       "0.406450264868497"
      ]
     },
     "execution_count": 87,
     "metadata": {},
     "output_type": "execute_result"
    }
   ],
   "source": [
    "#取K-S值\n",
    "#一般，KS值>0.2就可认为模型有比较好的预测准确性。\n",
    "max(tpr-fpr)"
   ]
  },
  {
   "cell_type": "code",
   "execution_count": 73,
   "metadata": {},
   "outputs": [],
   "source": [
    "#coe为逻辑回归模型的系数（这里是按原tutorial写的，我懒得改了）\n",
    "coe=[0.8533,0.6847,1.0139,0.3040,0.3720,0.1301,0.9494,0.6785,-0.5303,1.9999]"
   ]
  },
  {
   "cell_type": "code",
   "execution_count": 74,
   "metadata": {},
   "outputs": [],
   "source": [
    "#在建立标准评分卡之前，我们需要选取几个评分卡参数：基础分值、 PDO（比率翻倍的分值）和好坏比。 这里， 我们取600分为基础分值，PDO为20 （每高20分好坏比翻一倍），好坏比取20"
   ]
  },
  {
   "cell_type": "code",
   "execution_count": 75,
   "metadata": {},
   "outputs": [],
   "source": [
    "import math"
   ]
  },
  {
   "cell_type": "code",
   "execution_count": 85,
   "metadata": {},
   "outputs": [
    {
     "name": "stdout",
     "output_type": "stream",
     "text": [
      "baseScore: 538.0\n"
     ]
    }
   ],
   "source": [
    "# 我们取600分为基础分值，PDO为20（每高20分好坏比翻一倍），好坏比取20。\n",
    "p = 20 / math.log(2)\n",
    "q = 600 - 20 * math.log(20) / math.log(2)\n",
    "baseScore = round(q + p * coe[0], 0)\n",
    "print('baseScore:',baseScore)"
   ]
  },
  {
   "cell_type": "code",
   "execution_count": 77,
   "metadata": {},
   "outputs": [],
   "source": [
    "#个人总评分=基础分+各部分得分\n",
    "#下面计算各变量部分的分数。各部分得分函数"
   ]
  },
  {
   "cell_type": "code",
   "execution_count": 78,
   "metadata": {},
   "outputs": [],
   "source": [
    "#计算分数函数\n",
    "def get_score(coe,woe,factor):\n",
    "    scores=[]\n",
    "    for w in woe:\n",
    "        score=round(coe*w*factor,0)\n",
    "        scores.append(score)\n",
    "    return scores"
   ]
  },
  {
   "cell_type": "code",
   "execution_count": 79,
   "metadata": {},
   "outputs": [
    {
     "name": "stdout",
     "output_type": "stream",
     "text": [
      "[12.0, -1.0, -2.0, 2.0] [-10.0, 4.0] [0.0, -8.0] [8.0, -6.0, -12.0] [0.0, -3.0] [31.0, -7.0, -25.0, -36.0] [17.0, 1.0, -2.0, -3.0, -4.0, -6.0] [-4.0, 2.0, 2.0] [7.0, 5.0, -21.0, -5.0]\n"
     ]
    }
   ],
   "source": [
    "# 各项部分分数\n",
    "x2 = get_score(coe[1], woex2, p)\n",
    "x8 = get_score(coe[2], woex8, p)\n",
    "x11 = get_score(coe[3], woex11, p)\n",
    "x13 = get_score(coe[4], woex13, p)\n",
    "x15 = get_score(coe[5], woex15, p)\n",
    "x16 = get_score(coe[6], woex16, p)\n",
    "x25 = get_score(coe[7], woex25, p)\n",
    "x29 = get_score(coe[8], woex29, p)\n",
    "x31 = get_score(coe[9], woex31, p)\n",
    "print(x2,x8,x11,x13,x15,x16,x25,x29,x31)"
   ]
  },
  {
   "cell_type": "code",
   "execution_count": 80,
   "metadata": {},
   "outputs": [],
   "source": [
    "#根据变量来计算分数，实现如下"
   ]
  },
  {
   "cell_type": "code",
   "execution_count": 81,
   "metadata": {},
   "outputs": [],
   "source": [
    "#根据变量计算分数\n",
    "def compute_score(series,cut,score):\n",
    "    list = []\n",
    "    i = 0\n",
    "    while i < len(series):\n",
    "        value = series[i]\n",
    "        j = len(cut) - 2\n",
    "        m = len(cut) - 2\n",
    "        while j >= 0:\n",
    "            if value > cut[j]:\n",
    "                j = -1\n",
    "            else:\n",
    "                j -= 1\n",
    "                m -= 1\n",
    "        list.append(score[m])\n",
    "        i += 1\n",
    "    return list"
   ]
  },
  {
   "cell_type": "code",
   "execution_count": 82,
   "metadata": {},
   "outputs": [],
   "source": [
    "#我们来计算test里面的分数"
   ]
  },
  {
   "cell_type": "code",
   "execution_count": 84,
   "metadata": {},
   "outputs": [],
   "source": [
    "f_tmp=open(\"E:\\工作资料\\风控\\测试工程\\TestData.csv\")\n",
    "test1 = pd.read_csv(f_tmp)\n",
    "test1['BaseScore']=Series(np.zeros(len(test1)))+baseScore\n",
    "test1['x2'] = Series(compute_score(test1['age'], cutx2, x2))\n",
    "test1['x8'] = Series(compute_score(test1['is_same_loan_bank_name'], cutx8, x8))\n",
    "test1['x11'] = Series(compute_score(test1['diff_mobile_num'], cutx11, x11))\n",
    "test1['x13'] = Series(compute_score(test1['diff_bank_id_num'], cutx13, x13))\n",
    "test1['x15'] = Series(compute_score(test1['diff_bank_city_num'], cutx15, x15))\n",
    "test1['x16'] = Series(compute_score(test1['sum_loan_con_num'], cutx16, x16))\n",
    "test1['x25'] = Series(compute_score(test1['max_loan_con_amt'], cutx25, x25))\n",
    "test1['x29'] = Series(compute_score(test1['max_loan_con_amt_6'], cutx29, x29))\n",
    "test1['x31'] = Series(compute_score(test1['recent_apply_days'], cutx31, x31))\n",
    "test1['Score'] = df_new['x2'] + df_new['x8'] + df_new['x11'] + df_new['x13'] +df_new['x15']  +df_new['x16'] +df_new['x25'] +df_new['x29'] +df_new['x31'] + baseScore\n",
    "test1.to_csv('E:\\工作资料\\风控\\测试工程\\ScoreData.csv', index=False)"
   ]
  },
  {
   "cell_type": "code",
   "execution_count": null,
   "metadata": {},
   "outputs": [],
   "source": []
  }
 ],
 "metadata": {
  "kernelspec": {
   "display_name": "Python 3",
   "language": "python",
   "name": "python3"
  },
  "language_info": {
   "codemirror_mode": {
    "name": "ipython",
    "version": 3
   },
   "file_extension": ".py",
   "mimetype": "text/x-python",
   "name": "python",
   "nbconvert_exporter": "python",
   "pygments_lexer": "ipython3",
   "version": "3.6.5"
  }
 },
 "nbformat": 4,
 "nbformat_minor": 2
}
